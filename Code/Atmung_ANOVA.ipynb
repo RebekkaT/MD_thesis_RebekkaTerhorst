{
 "cells": [
  {
   "cell_type": "markdown",
   "metadata": {},
   "source": [
    "# Load and preprocess data "
   ]
  },
  {
   "cell_type": "code",
   "execution_count": 1,
   "metadata": {},
   "outputs": [
    {
     "data": {
      "text/plain": [
       "0     13.78\n",
       "1     13.78\n",
       "2     13.20\n",
       "3     15.27\n",
       "4     13.53\n",
       "      ...  \n",
       "64    14.44\n",
       "65    13.61\n",
       "66    13.36\n",
       "67    10.79\n",
       "68    14.27\n",
       "Name: respiratory_rate /min, Length: 69, dtype: float64"
      ]
     },
     "execution_count": 1,
     "metadata": {},
     "output_type": "execute_result"
    }
   ],
   "source": [
    "import pandas as pd\n",
    "import numpy as np\n",
    "# Ausschluss Probanden 1,4,10,18\n",
    "# load .csv with all subjects and respiration info\n",
    "df = pd.read_csv('/home/rebekka/Documents/Doktorarbeit/Physio/BekJan/respiratory_all.csv', header=0)\n",
    "df.loc[:,('respiratory_rate /min')].astype(float)\n"
   ]
  },
  {
   "cell_type": "code",
   "execution_count": 10,
   "metadata": {},
   "outputs": [
    {
     "name": "stdout",
     "output_type": "stream",
     "text": [
      "    Subject Bedingung  respiratory_rate /min                            Time\n",
      "0        20     water                  13.78   stressI_respiratory_rate /min\n",
      "1        13     water                  13.78   stressI_respiratory_rate /min\n",
      "2         3     music                  13.20   stressI_respiratory_rate /min\n",
      "3        29     music                  15.27   stressI_respiratory_rate /min\n",
      "4        14     music                  13.53   stressI_respiratory_rate /min\n",
      "..      ...       ...                    ...                             ...\n",
      "64        9     water                  14.44  stressII_respiratory_rate /min\n",
      "65        4     water                  13.61  stressII_respiratory_rate /min\n",
      "66       12     water                  13.36  stressII_respiratory_rate /min\n",
      "67       28     music                  10.79  stressII_respiratory_rate /min\n",
      "68       27     music                  14.27  stressII_respiratory_rate /min\n",
      "\n",
      "[69 rows x 4 columns]\n"
     ]
    }
   ],
   "source": [
    "print(df)"
   ]
  },
  {
   "cell_type": "markdown",
   "metadata": {},
   "source": [
    "## Analysis of repiratory data\n",
    "\n",
    "## Test for normal distribution\n",
    "\n",
    "https://statistikguru.de/spss/mixed-anova/normalverteilung-ueberpruefen-4.html\n",
    "\n",
    "The independent variable should be normally distributed in each group. If this is the case, results can be interpreted quite easily. If not, there are several studies that verify the conduction of ANOVA even though normally distribution is not met(Glass, Peckham, & Sanders, 1972; Harwell, Rubinstein, Hayes, & Olds, 1992; Salkind, 2010).\n",
    "\n",
    "In our study, respiratory data seperated into two groups showed normal distribution (p>0,05).\n",
    "\n",
    "Die unabhängige Variable sollte bei einer mixed ANOVA für jede Gruppe und für jede Stufe des Faktors etwa normalverteilt sein. Ist dies der Fall, so lassen sich die Ergebnisse am fehlerfreisten interpretieren. Allerdings gibt es auch genügend Belege aus aktuellen Studien, dass die ANOVA robust gegenüber einer Verletzung der Normalverteilung ist (Glass, Peckham, & Sanders, 1972; Harwell, Rubinstein, Hayes, & Olds, 1992; Salkind, 2010).\n",
    "\n",
    "Bei den gemessenen Atmungs-Werten zeigt sich zwischen den Gruppen (Musik vs Wasser) eine Normalverteilung (p>0,05)."
   ]
  },
  {
   "cell_type": "code",
   "execution_count": 11,
   "metadata": {},
   "outputs": [
    {
     "data": {
      "text/html": [
       "<div>\n",
       "<style scoped>\n",
       "    .dataframe tbody tr th:only-of-type {\n",
       "        vertical-align: middle;\n",
       "    }\n",
       "\n",
       "    .dataframe tbody tr th {\n",
       "        vertical-align: top;\n",
       "    }\n",
       "\n",
       "    .dataframe thead th {\n",
       "        text-align: right;\n",
       "    }\n",
       "</style>\n",
       "<table border=\"1\" class=\"dataframe\">\n",
       "  <thead>\n",
       "    <tr style=\"text-align: right;\">\n",
       "      <th></th>\n",
       "      <th>W</th>\n",
       "      <th>pval</th>\n",
       "      <th>normal</th>\n",
       "    </tr>\n",
       "  </thead>\n",
       "  <tbody>\n",
       "    <tr>\n",
       "      <th>water</th>\n",
       "      <td>0.960785</td>\n",
       "      <td>0.271997</td>\n",
       "      <td>True</td>\n",
       "    </tr>\n",
       "    <tr>\n",
       "      <th>music</th>\n",
       "      <td>0.975809</td>\n",
       "      <td>0.603427</td>\n",
       "      <td>True</td>\n",
       "    </tr>\n",
       "  </tbody>\n",
       "</table>\n",
       "</div>"
      ],
      "text/plain": [
       "              W      pval  normal\n",
       "water  0.960785  0.271997    True\n",
       "music  0.975809  0.603427    True"
      ]
     },
     "execution_count": 11,
     "metadata": {},
     "output_type": "execute_result"
    }
   ],
   "source": [
    "# check for a normally distributed sample (normality)\n",
    "import pingouin as pg\n",
    "pg.normality(df, group='Bedingung', dv='respiratory_rate /min')"
   ]
  },
  {
   "cell_type": "code",
   "execution_count": 12,
   "metadata": {},
   "outputs": [
    {
     "data": {
      "text/plain": [
       "array([[<matplotlib.axes._subplots.AxesSubplot object at 0x7f4847123400>]],\n",
       "      dtype=object)"
      ]
     },
     "execution_count": 12,
     "metadata": {},
     "output_type": "execute_result"
    },
    {
     "data": {
      "image/png": "[encoded data removed]",
      "text/plain": [
       "<Figure size 432x288 with 1 Axes>"
      ]
     },
     "metadata": {},
     "output_type": "display_data"
    }
   ],
   "source": [
    "%matplotlib inline\n",
    "df.hist(column='respiratory_rate /min')\n"
   ]
  },
  {
   "cell_type": "code",
   "execution_count": 15,
   "metadata": {},
   "outputs": [
    {
     "name": "stdout",
     "output_type": "stream",
     "text": [
      "    Subject Bedingung  respiratory_rate /min                            Time  \\\n",
      "0        20     water                  13.78   stressI_respiratory_rate /min   \n",
      "1        13     water                  13.78   stressI_respiratory_rate /min   \n",
      "5        15     water                   9.54   stressI_respiratory_rate /min   \n",
      "7        25     water                  14.94   stressI_respiratory_rate /min   \n",
      "8        21     water                  12.03   stressI_respiratory_rate /min   \n",
      "9        22     water                  13.53   stressI_respiratory_rate /min   \n",
      "13        5     water                  10.29   stressI_respiratory_rate /min   \n",
      "15       17     water                  11.70   stressI_respiratory_rate /min   \n",
      "18        9     water                  13.44   stressI_respiratory_rate /min   \n",
      "19        4     water                  11.45   stressI_respiratory_rate /min   \n",
      "20       12     water                  13.20   stressI_respiratory_rate /min   \n",
      "23       20     water                   8.88  acoustic_respiratory_rate /min   \n",
      "24       13     water                  10.37  acoustic_respiratory_rate /min   \n",
      "28       15     water                   6.97  acoustic_respiratory_rate /min   \n",
      "30       25     water                  11.87  acoustic_respiratory_rate /min   \n",
      "31       21     water                   9.96  acoustic_respiratory_rate /min   \n",
      "32       22     water                   9.79  acoustic_respiratory_rate /min   \n",
      "36        5     water                   7.63  acoustic_respiratory_rate /min   \n",
      "38       17     water                   8.80  acoustic_respiratory_rate /min   \n",
      "41        9     water                   8.71  acoustic_respiratory_rate /min   \n",
      "42        4     water                   9.79  acoustic_respiratory_rate /min   \n",
      "43       12     water                   9.71  acoustic_respiratory_rate /min   \n",
      "46       20     water                  14.11  stressII_respiratory_rate /min   \n",
      "47       13     water                  15.19  stressII_respiratory_rate /min   \n",
      "51       15     water                   9.46  stressII_respiratory_rate /min   \n",
      "53       25     water                  16.10  stressII_respiratory_rate /min   \n",
      "54       21     water                  12.28  stressII_respiratory_rate /min   \n",
      "55       22     water                  13.20  stressII_respiratory_rate /min   \n",
      "59        5     water                  10.29  stressII_respiratory_rate /min   \n",
      "61       17     water                   9.88  stressII_respiratory_rate /min   \n",
      "64        9     water                  14.44  stressII_respiratory_rate /min   \n",
      "65        4     water                  13.61  stressII_respiratory_rate /min   \n",
      "66       12     water                  13.36  stressII_respiratory_rate /min   \n",
      "\n",
      "    logrespiratory_rate /min  \n",
      "0                   2.623218  \n",
      "1                   2.623218  \n",
      "5                   2.255493  \n",
      "7                   2.704042  \n",
      "8                   2.487404  \n",
      "9                   2.604909  \n",
      "13                  2.331173  \n",
      "15                  2.459589  \n",
      "18                  2.598235  \n",
      "19                  2.437990  \n",
      "20                  2.580217  \n",
      "23                  2.183802  \n",
      "24                  2.338917  \n",
      "28                  1.941615  \n",
      "30                  2.474014  \n",
      "31                  2.298577  \n",
      "32                  2.281361  \n",
      "36                  2.032088  \n",
      "38                  2.174752  \n",
      "41                  2.164472  \n",
      "42                  2.281361  \n",
      "43                  2.273156  \n",
      "46                  2.646884  \n",
      "47                  2.720637  \n",
      "51                  2.247072  \n",
      "53                  2.778819  \n",
      "54                  2.507972  \n",
      "55                  2.580217  \n",
      "59                  2.331173  \n",
      "61                  2.290513  \n",
      "64                  2.670002  \n",
      "65                  2.610805  \n",
      "66                  2.592265  \n"
     ]
    }
   ],
   "source": [
    "# create df containig only subjects that listened to water sounds\n",
    "df_norm_w=df.loc[(df['Bedingung'] == ('water'))]\n",
    "print(df_norm_w)"
   ]
  },
  {
   "cell_type": "code",
   "execution_count": 16,
   "metadata": {},
   "outputs": [
    {
     "name": "stdout",
     "output_type": "stream",
     "text": [
      "    Subject Bedingung  respiratory_rate /min                            Time  \\\n",
      "2         3     music                  13.20   stressI_respiratory_rate /min   \n",
      "3        29     music                  15.27   stressI_respiratory_rate /min   \n",
      "4        14     music                  13.53   stressI_respiratory_rate /min   \n",
      "6        19     music                  17.26   stressI_respiratory_rate /min   \n",
      "10       23     music                  13.86   stressI_respiratory_rate /min   \n",
      "11       11     music                  11.54   stressI_respiratory_rate /min   \n",
      "12       16     music                  10.95   stressI_respiratory_rate /min   \n",
      "14       26     music                  13.61   stressI_respiratory_rate /min   \n",
      "16        2     music                  13.61   stressI_respiratory_rate /min   \n",
      "17       24     music                  13.78   stressI_respiratory_rate /min   \n",
      "21       28     music                  11.12   stressI_respiratory_rate /min   \n",
      "22       27     music                  14.52   stressI_respiratory_rate /min   \n",
      "25        3     music                  10.46  acoustic_respiratory_rate /min   \n",
      "26       29     music                   8.38  acoustic_respiratory_rate /min   \n",
      "27       14     music                  10.04  acoustic_respiratory_rate /min   \n",
      "29       19     music                  11.04  acoustic_respiratory_rate /min   \n",
      "33       23     music                   9.71  acoustic_respiratory_rate /min   \n",
      "34       11     music                   8.96  acoustic_respiratory_rate /min   \n",
      "35       16     music                   9.96  acoustic_respiratory_rate /min   \n",
      "37       26     music                   9.29  acoustic_respiratory_rate /min   \n",
      "39        2     music                   9.79  acoustic_respiratory_rate /min   \n",
      "40       24     music                  11.37  acoustic_respiratory_rate /min   \n",
      "44       28     music                   8.30  acoustic_respiratory_rate /min   \n",
      "45       27     music                  11.12  acoustic_respiratory_rate /min   \n",
      "48        3     music                  12.45  stressII_respiratory_rate /min   \n",
      "49       29     music                  15.93  stressII_respiratory_rate /min   \n",
      "50       14     music                  15.68  stressII_respiratory_rate /min   \n",
      "52       19     music                  14.61  stressII_respiratory_rate /min   \n",
      "56       23     music                  13.44  stressII_respiratory_rate /min   \n",
      "57       11     music                  12.53  stressII_respiratory_rate /min   \n",
      "58       16     music                  12.61  stressII_respiratory_rate /min   \n",
      "60       26     music                  15.77  stressII_respiratory_rate /min   \n",
      "62        2     music                  13.44  stressII_respiratory_rate /min   \n",
      "63       24     music                  11.70  stressII_respiratory_rate /min   \n",
      "67       28     music                  10.79  stressII_respiratory_rate /min   \n",
      "68       27     music                  14.27  stressII_respiratory_rate /min   \n",
      "\n",
      "    logrespiratory_rate /min  \n",
      "2                   2.580217  \n",
      "3                   2.725890  \n",
      "4                   2.604909  \n",
      "6                   2.848392  \n",
      "10                  2.629007  \n",
      "11                  2.445819  \n",
      "12                  2.393339  \n",
      "14                  2.610805  \n",
      "16                  2.610805  \n",
      "17                  2.623218  \n",
      "21                  2.408745  \n",
      "22                  2.675527  \n",
      "25                  2.347558  \n",
      "26                  2.125848  \n",
      "27                  2.306577  \n",
      "29                  2.401525  \n",
      "33                  2.273156  \n",
      "34                  2.192770  \n",
      "35                  2.298577  \n",
      "37                  2.228939  \n",
      "39                  2.281361  \n",
      "40                  2.430978  \n",
      "44                  2.116256  \n",
      "45                  2.408745  \n",
      "48                  2.521721  \n",
      "49                  2.768204  \n",
      "50                  2.752386  \n",
      "52                  2.681706  \n",
      "56                  2.598235  \n",
      "57                  2.528126  \n",
      "58                  2.534490  \n",
      "60                  2.758109  \n",
      "62                  2.598235  \n",
      "63                  2.459589  \n",
      "67                  2.378620  \n",
      "68                  2.658159  \n"
     ]
    }
   ],
   "source": [
    "# create df with subjects that listened to music\n",
    "df_norm_m=df.loc[(df['Bedingung'] == ('music'))]\n",
    "print(df_norm_m)"
   ]
  },
  {
   "cell_type": "code",
   "execution_count": 17,
   "metadata": {},
   "outputs": [
    {
     "data": {
      "text/html": [
       "<div>\n",
       "<style scoped>\n",
       "    .dataframe tbody tr th:only-of-type {\n",
       "        vertical-align: middle;\n",
       "    }\n",
       "\n",
       "    .dataframe tbody tr th {\n",
       "        vertical-align: top;\n",
       "    }\n",
       "\n",
       "    .dataframe thead th {\n",
       "        text-align: right;\n",
       "    }\n",
       "</style>\n",
       "<table border=\"1\" class=\"dataframe\">\n",
       "  <thead>\n",
       "    <tr style=\"text-align: right;\">\n",
       "      <th></th>\n",
       "      <th>W</th>\n",
       "      <th>pval</th>\n",
       "      <th>normal</th>\n",
       "    </tr>\n",
       "  </thead>\n",
       "  <tbody>\n",
       "    <tr>\n",
       "      <th>stressI_respiratory_rate /min</th>\n",
       "      <td>0.925343</td>\n",
       "      <td>0.333346</td>\n",
       "      <td>True</td>\n",
       "    </tr>\n",
       "    <tr>\n",
       "      <th>acoustic_respiratory_rate /min</th>\n",
       "      <td>0.951985</td>\n",
       "      <td>0.666157</td>\n",
       "      <td>True</td>\n",
       "    </tr>\n",
       "    <tr>\n",
       "      <th>stressII_respiratory_rate /min</th>\n",
       "      <td>0.945607</td>\n",
       "      <td>0.573911</td>\n",
       "      <td>True</td>\n",
       "    </tr>\n",
       "  </tbody>\n",
       "</table>\n",
       "</div>"
      ],
      "text/plain": [
       "                                       W      pval  normal\n",
       "stressI_respiratory_rate /min   0.925343  0.333346    True\n",
       "acoustic_respiratory_rate /min  0.951985  0.666157    True\n",
       "stressII_respiratory_rate /min  0.945607  0.573911    True"
      ]
     },
     "execution_count": 17,
     "metadata": {},
     "output_type": "execute_result"
    }
   ],
   "source": [
    "# test for normality in group with music intervention\n",
    "import pingouin as pg\n",
    "pg.normality(df_norm_m, group='Time', dv='respiratory_rate /min')"
   ]
  },
  {
   "cell_type": "code",
   "execution_count": 18,
   "metadata": {},
   "outputs": [
    {
     "data": {
      "text/html": [
       "<div>\n",
       "<style scoped>\n",
       "    .dataframe tbody tr th:only-of-type {\n",
       "        vertical-align: middle;\n",
       "    }\n",
       "\n",
       "    .dataframe tbody tr th {\n",
       "        vertical-align: top;\n",
       "    }\n",
       "\n",
       "    .dataframe thead th {\n",
       "        text-align: right;\n",
       "    }\n",
       "</style>\n",
       "<table border=\"1\" class=\"dataframe\">\n",
       "  <thead>\n",
       "    <tr style=\"text-align: right;\">\n",
       "      <th></th>\n",
       "      <th>W</th>\n",
       "      <th>pval</th>\n",
       "      <th>normal</th>\n",
       "    </tr>\n",
       "  </thead>\n",
       "  <tbody>\n",
       "    <tr>\n",
       "      <th>stressI_respiratory_rate /min</th>\n",
       "      <td>0.941925</td>\n",
       "      <td>0.543384</td>\n",
       "      <td>True</td>\n",
       "    </tr>\n",
       "    <tr>\n",
       "      <th>acoustic_respiratory_rate /min</th>\n",
       "      <td>0.961787</td>\n",
       "      <td>0.793773</td>\n",
       "      <td>True</td>\n",
       "    </tr>\n",
       "    <tr>\n",
       "      <th>stressII_respiratory_rate /min</th>\n",
       "      <td>0.931973</td>\n",
       "      <td>0.431153</td>\n",
       "      <td>True</td>\n",
       "    </tr>\n",
       "  </tbody>\n",
       "</table>\n",
       "</div>"
      ],
      "text/plain": [
       "                                       W      pval  normal\n",
       "stressI_respiratory_rate /min   0.941925  0.543384    True\n",
       "acoustic_respiratory_rate /min  0.961787  0.793773    True\n",
       "stressII_respiratory_rate /min  0.931973  0.431153    True"
      ]
     },
     "execution_count": 18,
     "metadata": {},
     "output_type": "execute_result"
    }
   ],
   "source": [
    "#test for normality in group with water intervention\n",
    "import pingouin as pg\n",
    "pg.normality(df_norm_w, group='Time', dv='respiratory_rate /min')"
   ]
  },
  {
   "cell_type": "markdown",
   "metadata": {},
   "source": [
    "## Test for homoscedasticity\n",
    "\n",
    "There was homogeneity of the error variances, as assessed by Levene’s test (p > .05).\n",
    "\n",
    "Homogenität der Varianzen lag vor. \n",
    "\n",
    "Homogenität der Fehlervarianzen der einzelnen Gruppen war gemäß dem Levene-Test für alle Variablen erfüllt (p > .05)."
   ]
  },
  {
   "cell_type": "code",
   "execution_count": 19,
   "metadata": {},
   "outputs": [
    {
     "data": {
      "text/html": [
       "<div>\n",
       "<style scoped>\n",
       "    .dataframe tbody tr th:only-of-type {\n",
       "        vertical-align: middle;\n",
       "    }\n",
       "\n",
       "    .dataframe tbody tr th {\n",
       "        vertical-align: top;\n",
       "    }\n",
       "\n",
       "    .dataframe thead th {\n",
       "        text-align: right;\n",
       "    }\n",
       "</style>\n",
       "<table border=\"1\" class=\"dataframe\">\n",
       "  <thead>\n",
       "    <tr style=\"text-align: right;\">\n",
       "      <th></th>\n",
       "      <th>W</th>\n",
       "      <th>pval</th>\n",
       "      <th>equal_var</th>\n",
       "    </tr>\n",
       "  </thead>\n",
       "  <tbody>\n",
       "    <tr>\n",
       "      <th>levene</th>\n",
       "      <td>1.852</td>\n",
       "      <td>0.164921</td>\n",
       "      <td>True</td>\n",
       "    </tr>\n",
       "  </tbody>\n",
       "</table>\n",
       "</div>"
      ],
      "text/plain": [
       "            W      pval  equal_var\n",
       "levene  1.852  0.164921       True"
      ]
     },
     "execution_count": 19,
     "metadata": {},
     "output_type": "execute_result"
    }
   ],
   "source": [
    "pg.homoscedasticity(df, group='Time', dv='respiratory_rate /min')"
   ]
  },
  {
   "cell_type": "code",
   "execution_count": 20,
   "metadata": {},
   "outputs": [
    {
     "data": {
      "text/html": [
       "<div>\n",
       "<style scoped>\n",
       "    .dataframe tbody tr th:only-of-type {\n",
       "        vertical-align: middle;\n",
       "    }\n",
       "\n",
       "    .dataframe tbody tr th {\n",
       "        vertical-align: top;\n",
       "    }\n",
       "\n",
       "    .dataframe thead th {\n",
       "        text-align: right;\n",
       "    }\n",
       "</style>\n",
       "<table border=\"1\" class=\"dataframe\">\n",
       "  <thead>\n",
       "    <tr style=\"text-align: right;\">\n",
       "      <th></th>\n",
       "      <th>W</th>\n",
       "      <th>pval</th>\n",
       "      <th>equal_var</th>\n",
       "    </tr>\n",
       "  </thead>\n",
       "  <tbody>\n",
       "    <tr>\n",
       "      <th>levene</th>\n",
       "      <td>0.918</td>\n",
       "      <td>0.410299</td>\n",
       "      <td>True</td>\n",
       "    </tr>\n",
       "  </tbody>\n",
       "</table>\n",
       "</div>"
      ],
      "text/plain": [
       "            W      pval  equal_var\n",
       "levene  0.918  0.410299       True"
      ]
     },
     "execution_count": 20,
     "metadata": {},
     "output_type": "execute_result"
    }
   ],
   "source": [
    "# check for equal variances (homoscedasticity)\n",
    "pg.homoscedasticity(df_norm_w, group='Time', dv='respiratory_rate /min')"
   ]
  },
  {
   "cell_type": "code",
   "execution_count": 21,
   "metadata": {},
   "outputs": [
    {
     "data": {
      "text/html": [
       "<div>\n",
       "<style scoped>\n",
       "    .dataframe tbody tr th:only-of-type {\n",
       "        vertical-align: middle;\n",
       "    }\n",
       "\n",
       "    .dataframe tbody tr th {\n",
       "        vertical-align: top;\n",
       "    }\n",
       "\n",
       "    .dataframe thead th {\n",
       "        text-align: right;\n",
       "    }\n",
       "</style>\n",
       "<table border=\"1\" class=\"dataframe\">\n",
       "  <thead>\n",
       "    <tr style=\"text-align: right;\">\n",
       "      <th></th>\n",
       "      <th>W</th>\n",
       "      <th>pval</th>\n",
       "      <th>equal_var</th>\n",
       "    </tr>\n",
       "  </thead>\n",
       "  <tbody>\n",
       "    <tr>\n",
       "      <th>levene</th>\n",
       "      <td>1.042</td>\n",
       "      <td>0.36405</td>\n",
       "      <td>True</td>\n",
       "    </tr>\n",
       "  </tbody>\n",
       "</table>\n",
       "</div>"
      ],
      "text/plain": [
       "            W     pval  equal_var\n",
       "levene  1.042  0.36405       True"
      ]
     },
     "execution_count": 21,
     "metadata": {},
     "output_type": "execute_result"
    }
   ],
   "source": [
    "# check for equal variances (homoscedasticity)\n",
    "pg.homoscedasticity(df_norm_m, group='Time', dv='respiratory_rate /min')"
   ]
  },
  {
   "cell_type": "markdown",
   "metadata": {},
   "source": [
    "## Test for sphericity\n",
    "\n",
    "Sphericity was met.\n",
    "\n",
    "Sphärizität liegt vor."
   ]
  },
  {
   "cell_type": "code",
   "execution_count": 22,
   "metadata": {},
   "outputs": [
    {
     "data": {
      "text/plain": [
       "(True, 0.881, 2.656, 2, 0.26497082478573863)"
      ]
     },
     "execution_count": 22,
     "metadata": {},
     "output_type": "execute_result"
    }
   ],
   "source": [
    "pg.sphericity(df, subject='Subject', dv='respiratory_rate /min', within='Time')"
   ]
  },
  {
   "cell_type": "markdown",
   "metadata": {},
   "source": [
    "## Descriptive statistics"
   ]
  },
  {
   "cell_type": "code",
   "execution_count": 32,
   "metadata": {
    "scrolled": false
   },
   "outputs": [
    {
     "data": {
      "text/plain": [
       "[]"
      ]
     },
     "execution_count": 32,
     "metadata": {},
     "output_type": "execute_result"
    },
    {
     "data": {
      "image/png": "[encoded data removed]",
      "text/plain": [
       "<Figure size 1440x720 with 1 Axes>"
      ]
     },
     "metadata": {},
     "output_type": "display_data"
    }
   ],
   "source": [
    "import seaborn as sns\n",
    "import matplotlib.pyplot as plt\n",
    "%matplotlib inline\n",
    "plt.figure(figsize=(20,10))\n",
    "sns.set()\n",
    "sns.pointplot(data=df, x='Time', y='respiratory_rate /min', hue='Bedingung', dodge=True, markers=['o', 's'], capsize=.1, errwidth=1, palette='colorblind')\n",
    "plt.plot()"
   ]
  },
  {
   "cell_type": "code",
   "execution_count": 24,
   "metadata": {},
   "outputs": [
    {
     "data": {
      "text/html": [
       "<div>\n",
       "<style scoped>\n",
       "    .dataframe tbody tr th:only-of-type {\n",
       "        vertical-align: middle;\n",
       "    }\n",
       "\n",
       "    .dataframe tbody tr th {\n",
       "        vertical-align: top;\n",
       "    }\n",
       "\n",
       "    .dataframe thead th {\n",
       "        text-align: right;\n",
       "    }\n",
       "</style>\n",
       "<table border=\"1\" class=\"dataframe\">\n",
       "  <thead>\n",
       "    <tr style=\"text-align: right;\">\n",
       "      <th></th>\n",
       "      <th></th>\n",
       "      <th>mean</th>\n",
       "      <th>std</th>\n",
       "    </tr>\n",
       "    <tr>\n",
       "      <th>Time</th>\n",
       "      <th>Bedingung</th>\n",
       "      <th></th>\n",
       "      <th></th>\n",
       "    </tr>\n",
       "  </thead>\n",
       "  <tbody>\n",
       "    <tr>\n",
       "      <th rowspan=\"2\" valign=\"top\">acoustic_respiratory_rate /min</th>\n",
       "      <th>music</th>\n",
       "      <td>9.87</td>\n",
       "      <td>1.02</td>\n",
       "    </tr>\n",
       "    <tr>\n",
       "      <th>water</th>\n",
       "      <td>9.32</td>\n",
       "      <td>1.34</td>\n",
       "    </tr>\n",
       "    <tr>\n",
       "      <th rowspan=\"2\" valign=\"top\">stressII_respiratory_rate /min</th>\n",
       "      <th>music</th>\n",
       "      <td>13.60</td>\n",
       "      <td>1.68</td>\n",
       "    </tr>\n",
       "    <tr>\n",
       "      <th>water</th>\n",
       "      <td>12.90</td>\n",
       "      <td>2.20</td>\n",
       "    </tr>\n",
       "    <tr>\n",
       "      <th rowspan=\"2\" valign=\"top\">stressI_respiratory_rate /min</th>\n",
       "      <th>music</th>\n",
       "      <td>13.52</td>\n",
       "      <td>1.77</td>\n",
       "    </tr>\n",
       "    <tr>\n",
       "      <th>water</th>\n",
       "      <td>12.52</td>\n",
       "      <td>1.65</td>\n",
       "    </tr>\n",
       "  </tbody>\n",
       "</table>\n",
       "</div>"
      ],
      "text/plain": [
       "                                           mean   std\n",
       "Time                           Bedingung             \n",
       "acoustic_respiratory_rate /min music       9.87  1.02\n",
       "                               water       9.32  1.34\n",
       "stressII_respiratory_rate /min music      13.60  1.68\n",
       "                               water      12.90  2.20\n",
       "stressI_respiratory_rate /min  music      13.52  1.77\n",
       "                               water      12.52  1.65"
      ]
     },
     "execution_count": 24,
     "metadata": {},
     "output_type": "execute_result"
    }
   ],
   "source": [
    "df.groupby(['Time', 'Bedingung'])['respiratory_rate /min'].agg(['mean', 'std']).round(2)"
   ]
  },
  {
   "cell_type": "markdown",
   "metadata": {},
   "source": [
    "# Conduct a mixed (split-plot) ANOVA \n",
    "\n",
    "There was no statistically significant interaction between time and group, punc = 0,759, eps0,894.\n",
    "\n",
    "Es gab keine statistisch signifikante Interaktion zwischen der Zeit und den Untersuchungsgruppen (punc=0,759, eps=0,894) .\n",
    "\n"
   ]
  },
  {
   "cell_type": "code",
   "execution_count": 26,
   "metadata": {},
   "outputs": [
    {
     "name": "stdout",
     "output_type": "stream",
     "text": [
      "\n",
      "=============\n",
      "ANOVA SUMMARY\n",
      "=============\n",
      "\n",
      "Source            SS    DF1    DF2      MS       F    p-unc    np2  eps\n",
      "-----------  -------  -----  -----  ------  ------  -------  -----  -----\n",
      "Bedingung      9.739      1     21   9.739   1.647    0.213  0.073  -\n",
      "Time         193.757      2     42  96.879  88.006    0.000  0.807  0.894\n",
      "Interaction    0.611      2     42   0.306   0.278    0.759  0.013  -\n",
      "\n"
     ]
    }
   ],
   "source": [
    "# https://raphaelvallat.com/pingouin.html\n",
    "#  dv:  A dependent variable: Cortisol\n",
    "#  within: A within-group variable, Time\n",
    "#  between:  A between-group variable, Group, with two levels (music, water)\n",
    "#  subject:  A subject variable, Subject\n",
    "\n",
    "# https://github.com/raphaelvallat/pingouin/blob/master/notebooks/01_ANOVA.ipynb\n",
    "\n",
    "import pingouin as pg\n",
    "# Compute the two-way mixed-design ANOVA\n",
    "aov = pg.mixed_anova(dv='respiratory_rate /min', within='Time', between='Bedingung', subject='Subject', data=df)\n",
    "# Pretty printing of ANOVA summary\n",
    "pg.print_table(aov)"
   ]
  },
  {
   "cell_type": "markdown",
   "metadata": {},
   "source": [
    "## Conduct repeated measure ANOVAs for the seperate groups (music and water)\n",
    "\n",
    "The rm-ANOVA shows a significant difference between the stresstests and the acoustic intervention (p< 0,05) The post hoc tests show the significance for conditions acoustic - stressI and acoustic - stressII but no significance between the two stresstests.\n",
    "\n",
    "Die RM ANOVA zeigte eine signifikante Interaktion bei der Analyse der einzelnen Zeitpunkte in den separierten Gruppen. Es liegt also eine signifikante Änderung der Atmung jeweils mit Änderung der Kondition in beiden Gruppen vor (p< 0,05), wie die post hoc Tests zeigen. Hierbei liegt der Unterschied jeweils zwischen den Bedingungen Akustik - StressI/II.\n"
   ]
  },
  {
   "cell_type": "code",
   "execution_count": 27,
   "metadata": {},
   "outputs": [
    {
     "name": "stdout",
     "output_type": "stream",
     "text": [
      "\n",
      "=============\n",
      "ANOVA SUMMARY\n",
      "=============\n",
      "\n",
      "Source      ddof1    ddof2       F    p-unc    np2    eps\n",
      "--------  -------  -------  ------  -------  -----  -----\n",
      "Time            2       22  36.620    0.000  0.769  0.901\n",
      "\n"
     ]
    }
   ],
   "source": [
    "import pingouin as pg\n",
    "# Compute the two-way mixed-design ANOVA\n",
    "prepost = pg.rm_anova(dv='respiratory_rate /min', within='Time', subject='Subject', data=df_norm_m)\n",
    "# Pretty printing of ANOVA summary\n",
    "pg.print_table(prepost)"
   ]
  },
  {
   "cell_type": "code",
   "execution_count": 28,
   "metadata": {},
   "outputs": [
    {
     "name": "stdout",
     "output_type": "stream",
     "text": [
      "\n",
      "==============\n",
      "POST HOC TESTS\n",
      "==============\n",
      "\n",
      "Contrast    A                               B                               Paired    Parametric         T     dof  Tail         p-unc      BF10    hedges\n",
      "----------  ------------------------------  ------------------------------  --------  ------------  ------  ------  ---------  -------  --------  --------\n",
      "Time        stressI_respiratory_rate /min   acoustic_respiratory_rate /min  True      True           7.767  11.000  two-sided    0.000  2454.111     2.524\n",
      "Time        stressI_respiratory_rate /min   stressII_respiratory_rate /min  True      True          -0.183  11.000  two-sided    0.858     0.292    -0.045\n",
      "Time        acoustic_respiratory_rate /min  stressII_respiratory_rate /min  True      True          -6.504  11.000  two-sided    0.000   588.728    -2.673\n",
      "\n"
     ]
    }
   ],
   "source": [
    "t=pg.pairwise_ttests(dv='respiratory_rate /min', within='Time', subject='Subject', data=df_norm_m)\n",
    "pg.print_table(t)"
   ]
  },
  {
   "cell_type": "code",
   "execution_count": 29,
   "metadata": {},
   "outputs": [
    {
     "name": "stdout",
     "output_type": "stream",
     "text": [
      "\n",
      "=============\n",
      "ANOVA SUMMARY\n",
      "=============\n",
      "\n",
      "Source      ddof1    ddof2       F    p-unc    np2    eps\n",
      "--------  -------  -------  ------  -------  -----  -----\n",
      "Time            2       20  63.363    0.000  0.864  0.841\n",
      "\n"
     ]
    }
   ],
   "source": [
    "import pingouin as pg\n",
    "# Compute the two-way mixed-design ANOVA\n",
    "prepost_w = pg.rm_anova(dv='respiratory_rate /min', within='Time', subject='Subject', data=df_norm_w)\n",
    "# Pretty printing of ANOVA summary\n",
    "pg.print_table(prepost_w)"
   ]
  },
  {
   "cell_type": "code",
   "execution_count": 30,
   "metadata": {},
   "outputs": [
    {
     "name": "stdout",
     "output_type": "stream",
     "text": [
      "\n",
      "==============\n",
      "POST HOC TESTS\n",
      "==============\n",
      "\n",
      "Contrast    A                               B                               Paired    Parametric         T     dof  Tail         p-unc       BF10    hedges\n",
      "----------  ------------------------------  ------------------------------  --------  ------------  ------  ------  ---------  -------  ---------  --------\n",
      "Time        stressI_respiratory_rate /min   acoustic_respiratory_rate /min  True      True          10.563  10.000  two-sided    0.000  16670.000     2.062\n",
      "Time        stressI_respiratory_rate /min   stressII_respiratory_rate /min  True      True          -1.219  10.000  two-sided    0.251      0.543    -0.193\n",
      "Time        acoustic_respiratory_rate /min  stressII_respiratory_rate /min  True      True          -8.567  10.000  two-sided    0.000   3123.429    -1.953\n",
      "\n"
     ]
    }
   ],
   "source": [
    "t_w=pg.pairwise_ttests(dv='respiratory_rate /min', within='Time', subject='Subject', data=df_norm_w)\n",
    "pg.print_table(t_w)"
   ]
  },
  {
   "cell_type": "code",
   "execution_count": null,
   "metadata": {
    "collapsed": true
   },
   "outputs": [],
   "source": []
  }
 ],
 "metadata": {
  "kernelspec": {
   "display_name": "Python 3",
   "language": "python",
   "name": "python3"
  },
  "language_info": {
   "codemirror_mode": {
    "name": "ipython",
    "version": 3
   },
   "file_extension": ".py",
   "mimetype": "text/x-python",
   "name": "python",
   "nbconvert_exporter": "python",
   "pygments_lexer": "ipython3",
   "version": "3.6.3"
  }
 },
 "nbformat": 4,
 "nbformat_minor": 2
}
