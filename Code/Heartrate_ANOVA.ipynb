{
 "cells": [
  {
   "cell_type": "markdown",
   "metadata": {},
   "source": [
    "# Load and preprocess data "
   ]
  },
  {
   "cell_type": "code",
   "execution_count": 1,
   "metadata": {
    "collapsed": true
   },
   "outputs": [],
   "source": [
    "# import essentiell modules\n",
    "import pandas as pd\n",
    "import numpy as np\n",
    "from scipy import stats\n",
    "from datetime import datetime\n",
    "from sklearn import preprocessing\n",
    "from sklearn.model_selection import KFold\n",
    "from sklearn import datasets, linear_model\n",
    "from sklearn.metrics import mean_squared_error, r2_score\n",
    "from sklearn.linear_model import LinearRegression\n",
    "import matplotlib.pyplot as plt\n",
    "%matplotlib inline"
   ]
  },
  {
   "cell_type": "code",
   "execution_count": 2,
   "metadata": {
    "collapsed": true
   },
   "outputs": [],
   "source": [
    "df01=pd.read_csv('/home/rebekka/Documents/Doktorarbeit/Physio/statistics/physio_sub-01.csv', header=0)\n",
    "df02=pd.read_csv('/home/rebekka/Documents/Doktorarbeit/Physio/statistics/physio_sub-02.csv', header=0)\n",
    "df03=pd.read_csv('/home/rebekka/Documents/Doktorarbeit/Physio/statistics/physio_sub-03.csv', header=0)\n",
    "df04=pd.read_csv('/home/rebekka/Documents/Doktorarbeit/Physio/statistics/physio_sub-04.csv', header=0)\n",
    "df05=pd.read_csv('/home/rebekka/Documents/Doktorarbeit/Physio/statistics/physio_sub-05.csv', header=0)\n",
    "df06=pd.read_csv('/home/rebekka/Documents/Doktorarbeit/Physio/statistics/physio_sub-06.csv', header=0)\n",
    "df07=pd.read_csv('/home/rebekka/Documents/Doktorarbeit/Physio/statistics/physio_sub-07.csv', header=0)\n",
    "df08=pd.read_csv('/home/rebekka/Documents/Doktorarbeit/Physio/statistics/physio_sub-08.csv', header=0)\n",
    "df09=pd.read_csv('/home/rebekka/Documents/Doktorarbeit/Physio/statistics/physio_sub-09.csv', header=0)\n",
    "df10=pd.read_csv('/home/rebekka/Documents/Doktorarbeit/Physio/statistics/physio_sub-10.csv', header=0)\n",
    "df11=pd.read_csv('/home/rebekka/Documents/Doktorarbeit/Physio/statistics/physio_sub-11.csv', header=0)\n",
    "df12=pd.read_csv('/home/rebekka/Documents/Doktorarbeit/Physio/statistics/physio_sub-12.csv', header=0)\n",
    "df13=pd.read_csv('/home/rebekka/Documents/Doktorarbeit/Physio/statistics/physio_sub-13.csv', header=0)\n",
    "df14=pd.read_csv('/home/rebekka/Documents/Doktorarbeit/Physio/statistics/physio_sub-14.csv', header=0)\n",
    "df15=pd.read_csv('/home/rebekka/Documents/Doktorarbeit/Physio/statistics/physio_sub-15.csv', header=0)\n",
    "df16=pd.read_csv('/home/rebekka/Documents/Doktorarbeit/Physio/statistics/physio_sub-16.csv', header=0)\n",
    "df17=pd.read_csv('/home/rebekka/Documents/Doktorarbeit/Physio/statistics/physio_sub-17.csv', header=0)\n",
    "df18=pd.read_csv('/home/rebekka/Documents/Doktorarbeit/Physio/statistics/physio_sub-18.csv', header=0)"
   ]
  },
  {
   "cell_type": "code",
   "execution_count": 3,
   "metadata": {},
   "outputs": [
    {
     "name": "stdout",
     "output_type": "stream",
     "text": [
      "     Time Subject  heartrate Bedingung\n",
      "0       1  Sub-01   54.87507     music\n",
      "1       2  Sub-01   54.56021     music\n",
      "2       3  Sub-01   54.34915     music\n",
      "3       4  Sub-01   54.08023     music\n",
      "4       5  Sub-01   53.80635     music\n",
      "..    ...     ...        ...       ...\n",
      "507   508  Sub-18   62.90909     water\n",
      "508   509  Sub-18   63.19826     water\n",
      "509   510  Sub-18   63.69337     water\n",
      "510   511  Sub-18   64.85535     water\n",
      "511   512  Sub-18   65.46280     water\n",
      "\n",
      "[9216 rows x 4 columns]\n"
     ]
    }
   ],
   "source": [
    "# concatenate all puls data from all subjects into one df\n",
    "df = pd.concat([df01, df02, df03, df04, df05, df06, df07, df08, df09, df10, df11, df12, df13, df14, df15, df16, df17, df18])\n",
    "print(df)"
   ]
  },
  {
   "cell_type": "markdown",
   "metadata": {},
   "source": [
    "## Analysis of heartrate data\n",
    "\n",
    "## Test for normal distribution\n",
    "\n",
    "https://statistikguru.de/spss/mixed-anova/normalverteilung-ueberpruefen-4.html\n",
    "\n",
    "The independent variable should be normally distributed in each group. If this is the case, results can be interpreted quite easily. If not, there are several studies that verify the conduction of ANOVA even though normally distribution is not met(Glass, Peckham, & Sanders, 1972; Harwell, Rubinstein, Hayes, & Olds, 1992; Salkind, 2010).\n",
    "\n",
    "In our study, heartrate data seperated into two groups showed no normal distribution even not after beeing logharithmically transformed (p< 0,05).\n",
    "While analysing each group seperatly for each timepoint showed a normal distribution (p>0,05).\n",
    "\n",
    "\n",
    "Die unabhängige Variable sollte bei einer mixed ANOVA für jede Gruppe und für jede Stufe des Faktors etwa normalverteilt sein. Ist dies der Fall, so lassen sich die Ergebnisse am fehlerfreisten interpretieren. Allerdings gibt es auch genügend Belege aus aktuellen Studien, dass die ANOVA robust gegenüber einer Verletzung der Normalverteilung ist (Glass, Peckham, & Sanders, 1972; Harwell, Rubinstein, Hayes, & Olds, 1992; Salkind, 2010).\n",
    "\n",
    "Puls-Werte waren für alle Gruppen nicht normalverteilt (p < .05). In der Analyse der einzelnen Gruppen zu jedem Zeitpunkt zeigte sich allerdings jeweils eine Normalverteilung."
   ]
  },
  {
   "cell_type": "code",
   "execution_count": 14,
   "metadata": {},
   "outputs": [
    {
     "name": "stderr",
     "output_type": "stream",
     "text": [
      "/home/rebekka/anaconda3/lib/python3.6/site-packages/scipy/stats/morestats.py:1676: UserWarning: p-value may not be accurate for N > 5000.\n",
      "  warnings.warn(\"p-value may not be accurate for N > 5000.\")\n"
     ]
    },
    {
     "data": {
      "text/html": [
       "<div>\n",
       "<style scoped>\n",
       "    .dataframe tbody tr th:only-of-type {\n",
       "        vertical-align: middle;\n",
       "    }\n",
       "\n",
       "    .dataframe tbody tr th {\n",
       "        vertical-align: top;\n",
       "    }\n",
       "\n",
       "    .dataframe thead th {\n",
       "        text-align: right;\n",
       "    }\n",
       "</style>\n",
       "<table border=\"1\" class=\"dataframe\">\n",
       "  <thead>\n",
       "    <tr style=\"text-align: right;\">\n",
       "      <th></th>\n",
       "      <th>W</th>\n",
       "      <th>pval</th>\n",
       "      <th>normal</th>\n",
       "    </tr>\n",
       "  </thead>\n",
       "  <tbody>\n",
       "    <tr>\n",
       "      <th>music</th>\n",
       "      <td>0.94483</td>\n",
       "      <td>4.197505e-40</td>\n",
       "      <td>False</td>\n",
       "    </tr>\n",
       "    <tr>\n",
       "      <th>water</th>\n",
       "      <td>0.95545</td>\n",
       "      <td>1.185301e-33</td>\n",
       "      <td>False</td>\n",
       "    </tr>\n",
       "  </tbody>\n",
       "</table>\n",
       "</div>"
      ],
      "text/plain": [
       "             W          pval  normal\n",
       "music  0.94483  4.197505e-40   False\n",
       "water  0.95545  1.185301e-33   False"
      ]
     },
     "execution_count": 14,
     "metadata": {},
     "output_type": "execute_result"
    }
   ],
   "source": [
    "# check for a normally distributed sample (normality)\n",
    "import pingouin as pg\n",
    "pg.normality(df, group='Bedingung', dv='heartrate')"
   ]
  },
  {
   "cell_type": "code",
   "execution_count": 32,
   "metadata": {},
   "outputs": [
    {
     "data": {
      "text/html": [
       "<div>\n",
       "<style scoped>\n",
       "    .dataframe tbody tr th:only-of-type {\n",
       "        vertical-align: middle;\n",
       "    }\n",
       "\n",
       "    .dataframe tbody tr th {\n",
       "        vertical-align: top;\n",
       "    }\n",
       "\n",
       "    .dataframe thead th {\n",
       "        text-align: right;\n",
       "    }\n",
       "</style>\n",
       "<table border=\"1\" class=\"dataframe\">\n",
       "  <thead>\n",
       "    <tr style=\"text-align: right;\">\n",
       "      <th></th>\n",
       "      <th>W</th>\n",
       "      <th>pval</th>\n",
       "      <th>normal</th>\n",
       "    </tr>\n",
       "  </thead>\n",
       "  <tbody>\n",
       "    <tr>\n",
       "      <th>1</th>\n",
       "      <td>0.879920</td>\n",
       "      <td>0.187999</td>\n",
       "      <td>True</td>\n",
       "    </tr>\n",
       "    <tr>\n",
       "      <th>2</th>\n",
       "      <td>0.937964</td>\n",
       "      <td>0.591163</td>\n",
       "      <td>True</td>\n",
       "    </tr>\n",
       "    <tr>\n",
       "      <th>3</th>\n",
       "      <td>0.962403</td>\n",
       "      <td>0.832660</td>\n",
       "      <td>True</td>\n",
       "    </tr>\n",
       "    <tr>\n",
       "      <th>4</th>\n",
       "      <td>0.930024</td>\n",
       "      <td>0.516293</td>\n",
       "      <td>True</td>\n",
       "    </tr>\n",
       "    <tr>\n",
       "      <th>5</th>\n",
       "      <td>0.895688</td>\n",
       "      <td>0.264073</td>\n",
       "      <td>True</td>\n",
       "    </tr>\n",
       "    <tr>\n",
       "      <th>...</th>\n",
       "      <td>...</td>\n",
       "      <td>...</td>\n",
       "      <td>...</td>\n",
       "    </tr>\n",
       "    <tr>\n",
       "      <th>508</th>\n",
       "      <td>0.868111</td>\n",
       "      <td>0.144443</td>\n",
       "      <td>True</td>\n",
       "    </tr>\n",
       "    <tr>\n",
       "      <th>509</th>\n",
       "      <td>0.846696</td>\n",
       "      <td>0.088186</td>\n",
       "      <td>True</td>\n",
       "    </tr>\n",
       "    <tr>\n",
       "      <th>510</th>\n",
       "      <td>0.834467</td>\n",
       "      <td>0.066052</td>\n",
       "      <td>True</td>\n",
       "    </tr>\n",
       "    <tr>\n",
       "      <th>511</th>\n",
       "      <td>0.841785</td>\n",
       "      <td>0.078567</td>\n",
       "      <td>True</td>\n",
       "    </tr>\n",
       "    <tr>\n",
       "      <th>512</th>\n",
       "      <td>0.843994</td>\n",
       "      <td>0.082765</td>\n",
       "      <td>True</td>\n",
       "    </tr>\n",
       "  </tbody>\n",
       "</table>\n",
       "<p>512 rows × 3 columns</p>\n",
       "</div>"
      ],
      "text/plain": [
       "            W      pval  normal\n",
       "1    0.879920  0.187999    True\n",
       "2    0.937964  0.591163    True\n",
       "3    0.962403  0.832660    True\n",
       "4    0.930024  0.516293    True\n",
       "5    0.895688  0.264073    True\n",
       "..        ...       ...     ...\n",
       "508  0.868111  0.144443    True\n",
       "509  0.846696  0.088186    True\n",
       "510  0.834467  0.066052    True\n",
       "511  0.841785  0.078567    True\n",
       "512  0.843994  0.082765    True\n",
       "\n",
       "[512 rows x 3 columns]"
      ]
     },
     "execution_count": 32,
     "metadata": {},
     "output_type": "execute_result"
    }
   ],
   "source": [
    "# check for normal distribution in the group listening to water\n",
    "df_norm_w=df.loc[(df['Bedingung'] == ('water'))]\n",
    "pg.normality(df_norm_w, group='Time', dv='heartrate')"
   ]
  },
  {
   "cell_type": "code",
   "execution_count": 33,
   "metadata": {},
   "outputs": [
    {
     "data": {
      "text/html": [
       "<div>\n",
       "<style scoped>\n",
       "    .dataframe tbody tr th:only-of-type {\n",
       "        vertical-align: middle;\n",
       "    }\n",
       "\n",
       "    .dataframe tbody tr th {\n",
       "        vertical-align: top;\n",
       "    }\n",
       "\n",
       "    .dataframe thead th {\n",
       "        text-align: right;\n",
       "    }\n",
       "</style>\n",
       "<table border=\"1\" class=\"dataframe\">\n",
       "  <thead>\n",
       "    <tr style=\"text-align: right;\">\n",
       "      <th></th>\n",
       "      <th>W</th>\n",
       "      <th>pval</th>\n",
       "      <th>normal</th>\n",
       "    </tr>\n",
       "  </thead>\n",
       "  <tbody>\n",
       "    <tr>\n",
       "      <th>1</th>\n",
       "      <td>0.916818</td>\n",
       "      <td>0.331181</td>\n",
       "      <td>True</td>\n",
       "    </tr>\n",
       "    <tr>\n",
       "      <th>2</th>\n",
       "      <td>0.934826</td>\n",
       "      <td>0.496997</td>\n",
       "      <td>True</td>\n",
       "    </tr>\n",
       "    <tr>\n",
       "      <th>3</th>\n",
       "      <td>0.925744</td>\n",
       "      <td>0.407361</td>\n",
       "      <td>True</td>\n",
       "    </tr>\n",
       "    <tr>\n",
       "      <th>4</th>\n",
       "      <td>0.918443</td>\n",
       "      <td>0.344155</td>\n",
       "      <td>True</td>\n",
       "    </tr>\n",
       "    <tr>\n",
       "      <th>5</th>\n",
       "      <td>0.907265</td>\n",
       "      <td>0.262730</td>\n",
       "      <td>True</td>\n",
       "    </tr>\n",
       "    <tr>\n",
       "      <th>...</th>\n",
       "      <td>...</td>\n",
       "      <td>...</td>\n",
       "      <td>...</td>\n",
       "    </tr>\n",
       "    <tr>\n",
       "      <th>508</th>\n",
       "      <td>0.928635</td>\n",
       "      <td>0.434599</td>\n",
       "      <td>True</td>\n",
       "    </tr>\n",
       "    <tr>\n",
       "      <th>509</th>\n",
       "      <td>0.929815</td>\n",
       "      <td>0.446071</td>\n",
       "      <td>True</td>\n",
       "    </tr>\n",
       "    <tr>\n",
       "      <th>510</th>\n",
       "      <td>0.928145</td>\n",
       "      <td>0.429895</td>\n",
       "      <td>True</td>\n",
       "    </tr>\n",
       "    <tr>\n",
       "      <th>511</th>\n",
       "      <td>0.919753</td>\n",
       "      <td>0.354904</td>\n",
       "      <td>True</td>\n",
       "    </tr>\n",
       "    <tr>\n",
       "      <th>512</th>\n",
       "      <td>0.913823</td>\n",
       "      <td>0.308296</td>\n",
       "      <td>True</td>\n",
       "    </tr>\n",
       "  </tbody>\n",
       "</table>\n",
       "<p>512 rows × 3 columns</p>\n",
       "</div>"
      ],
      "text/plain": [
       "            W      pval  normal\n",
       "1    0.916818  0.331181    True\n",
       "2    0.934826  0.496997    True\n",
       "3    0.925744  0.407361    True\n",
       "4    0.918443  0.344155    True\n",
       "5    0.907265  0.262730    True\n",
       "..        ...       ...     ...\n",
       "508  0.928635  0.434599    True\n",
       "509  0.929815  0.446071    True\n",
       "510  0.928145  0.429895    True\n",
       "511  0.919753  0.354904    True\n",
       "512  0.913823  0.308296    True\n",
       "\n",
       "[512 rows x 3 columns]"
      ]
     },
     "execution_count": 33,
     "metadata": {},
     "output_type": "execute_result"
    }
   ],
   "source": [
    "#check for normal distribution in the group listening to music\n",
    "df_norm_m=df.loc[(df['Bedingung'] == ('music'))]\n",
    "pg.normality(df_norm_m, group='Time', dv='heartrate')"
   ]
  },
  {
   "cell_type": "markdown",
   "metadata": {},
   "source": [
    "## Test for homoscedasticity\n",
    "\n",
    "There was homogeneity of the error variances, as assessed by Levene’s test (p > .05).\n",
    "\n",
    "Homogenität des Varianzen ist gegeben\n",
    "\n",
    "Homogenität der Fehlervarianzen zwischen den Gruppen war gemäß dem Levene-Test für alle Variablen erfüllt (p > .05)."
   ]
  },
  {
   "cell_type": "code",
   "execution_count": 34,
   "metadata": {},
   "outputs": [
    {
     "data": {
      "text/html": [
       "<div>\n",
       "<style scoped>\n",
       "    .dataframe tbody tr th:only-of-type {\n",
       "        vertical-align: middle;\n",
       "    }\n",
       "\n",
       "    .dataframe tbody tr th {\n",
       "        vertical-align: top;\n",
       "    }\n",
       "\n",
       "    .dataframe thead th {\n",
       "        text-align: right;\n",
       "    }\n",
       "</style>\n",
       "<table border=\"1\" class=\"dataframe\">\n",
       "  <thead>\n",
       "    <tr style=\"text-align: right;\">\n",
       "      <th></th>\n",
       "      <th>W</th>\n",
       "      <th>pval</th>\n",
       "      <th>equal_var</th>\n",
       "    </tr>\n",
       "  </thead>\n",
       "  <tbody>\n",
       "    <tr>\n",
       "      <th>levene</th>\n",
       "      <td>0.281</td>\n",
       "      <td>1.0</td>\n",
       "      <td>True</td>\n",
       "    </tr>\n",
       "  </tbody>\n",
       "</table>\n",
       "</div>"
      ],
      "text/plain": [
       "            W  pval  equal_var\n",
       "levene  0.281   1.0       True"
      ]
     },
     "execution_count": 34,
     "metadata": {},
     "output_type": "execute_result"
    }
   ],
   "source": [
    "# check for equal variances (homoscedasticity)\n",
    "pg.homoscedasticity(df, group='Time', dv='heartrate')"
   ]
  },
  {
   "cell_type": "markdown",
   "metadata": {},
   "source": [
    "## Test for sphericity\n",
    "\n",
    "Sphericity was met (p>0,05)\n",
    "\n",
    "Für die Pulsdaten liegt Sphärizität vor (Mauchly Test: p>0,05)\n",
    "\n",
    "\n",
    "Sphärizität ist eine der wichtigsten Voraussetzungen der mixed ANOVA. Sphärizität ist eine Annahme, die bei allen Verfahren mit Messwiederholung gemacht wird, die mehr als zwei Stufen haben. Bei vorliegender Sphärizität sind die Differenzen aller Stufen der unabhängigen Variablen gleich. Man sagt auch, das Homoskedastizität zwischen den Stufen vorliegt."
   ]
  },
  {
   "cell_type": "code",
   "execution_count": 15,
   "metadata": {},
   "outputs": [
    {
     "name": "stderr",
     "output_type": "stream",
     "text": [
      "/home/rebekka/anaconda3/lib/python3.6/site-packages/pingouin/distribution.py:955: RuntimeWarning: overflow encountered in double_scalars\n",
      "  W = np.product(eig) / (eig.sum() / d)**d\n",
      "/home/rebekka/anaconda3/lib/python3.6/site-packages/pingouin/distribution.py:956: RuntimeWarning: divide by zero encountered in log\n",
      "  logW = np.log(W)\n"
     ]
    },
    {
     "data": {
      "text/plain": [
       "(True, 0.0, -inf, 130815, 1.0)"
      ]
     },
     "execution_count": 15,
     "metadata": {},
     "output_type": "execute_result"
    }
   ],
   "source": [
    "pg.sphericity(df, subject='Subject', dv='heartrate', within='Time')"
   ]
  },
  {
   "cell_type": "markdown",
   "metadata": {},
   "source": [
    "## Descriptive statistics"
   ]
  },
  {
   "cell_type": "code",
   "execution_count": 36,
   "metadata": {},
   "outputs": [
    {
     "data": {
      "text/plain": [
       "<matplotlib.axes._subplots.AxesSubplot at 0x7ff084f54780>"
      ]
     },
     "execution_count": 36,
     "metadata": {},
     "output_type": "execute_result"
    },
    {
     "data": {
      "image/png": "[encoded data removed]",
      "text/plain": [
       "<Figure size 432x288 with 1 Axes>"
      ]
     },
     "metadata": {},
     "output_type": "display_data"
    }
   ],
   "source": [
    "import seaborn as sns\n",
    "import matplotlib.pyplot as plt\n",
    "%matplotlib inline\n",
    "sns.set(style=\"darkgrid\")\n",
    "sns.lineplot(x=\"Time\", y=\"heartrate\", hue=\"Bedingung\", data=df)"
   ]
  },
  {
   "cell_type": "code",
   "execution_count": 37,
   "metadata": {
    "scrolled": true
   },
   "outputs": [
    {
     "data": {
      "text/html": [
       "<div>\n",
       "<style scoped>\n",
       "    .dataframe tbody tr th:only-of-type {\n",
       "        vertical-align: middle;\n",
       "    }\n",
       "\n",
       "    .dataframe tbody tr th {\n",
       "        vertical-align: top;\n",
       "    }\n",
       "\n",
       "    .dataframe thead th {\n",
       "        text-align: right;\n",
       "    }\n",
       "</style>\n",
       "<table border=\"1\" class=\"dataframe\">\n",
       "  <thead>\n",
       "    <tr style=\"text-align: right;\">\n",
       "      <th></th>\n",
       "      <th></th>\n",
       "      <th>mean</th>\n",
       "      <th>std</th>\n",
       "    </tr>\n",
       "    <tr>\n",
       "      <th>Time</th>\n",
       "      <th>Bedingung</th>\n",
       "      <th></th>\n",
       "      <th></th>\n",
       "    </tr>\n",
       "  </thead>\n",
       "  <tbody>\n",
       "    <tr>\n",
       "      <th rowspan=\"2\" valign=\"top\">1</th>\n",
       "      <th>music</th>\n",
       "      <td>71.66</td>\n",
       "      <td>14.11</td>\n",
       "    </tr>\n",
       "    <tr>\n",
       "      <th>water</th>\n",
       "      <td>71.32</td>\n",
       "      <td>6.03</td>\n",
       "    </tr>\n",
       "    <tr>\n",
       "      <th rowspan=\"2\" valign=\"top\">2</th>\n",
       "      <th>music</th>\n",
       "      <td>69.71</td>\n",
       "      <td>13.88</td>\n",
       "    </tr>\n",
       "    <tr>\n",
       "      <th>water</th>\n",
       "      <td>70.37</td>\n",
       "      <td>6.63</td>\n",
       "    </tr>\n",
       "    <tr>\n",
       "      <th>3</th>\n",
       "      <th>music</th>\n",
       "      <td>69.62</td>\n",
       "      <td>14.09</td>\n",
       "    </tr>\n",
       "    <tr>\n",
       "      <th>...</th>\n",
       "      <th>...</th>\n",
       "      <td>...</td>\n",
       "      <td>...</td>\n",
       "    </tr>\n",
       "    <tr>\n",
       "      <th>510</th>\n",
       "      <th>water</th>\n",
       "      <td>71.70</td>\n",
       "      <td>10.26</td>\n",
       "    </tr>\n",
       "    <tr>\n",
       "      <th rowspan=\"2\" valign=\"top\">511</th>\n",
       "      <th>music</th>\n",
       "      <td>71.62</td>\n",
       "      <td>13.85</td>\n",
       "    </tr>\n",
       "    <tr>\n",
       "      <th>water</th>\n",
       "      <td>72.20</td>\n",
       "      <td>10.18</td>\n",
       "    </tr>\n",
       "    <tr>\n",
       "      <th rowspan=\"2\" valign=\"top\">512</th>\n",
       "      <th>music</th>\n",
       "      <td>71.51</td>\n",
       "      <td>13.87</td>\n",
       "    </tr>\n",
       "    <tr>\n",
       "      <th>water</th>\n",
       "      <td>72.46</td>\n",
       "      <td>10.10</td>\n",
       "    </tr>\n",
       "  </tbody>\n",
       "</table>\n",
       "<p>1024 rows × 2 columns</p>\n",
       "</div>"
      ],
      "text/plain": [
       "                 mean    std\n",
       "Time Bedingung              \n",
       "1    music      71.66  14.11\n",
       "     water      71.32   6.03\n",
       "2    music      69.71  13.88\n",
       "     water      70.37   6.63\n",
       "3    music      69.62  14.09\n",
       "...               ...    ...\n",
       "510  water      71.70  10.26\n",
       "511  music      71.62  13.85\n",
       "     water      72.20  10.18\n",
       "512  music      71.51  13.87\n",
       "     water      72.46  10.10\n",
       "\n",
       "[1024 rows x 2 columns]"
      ]
     },
     "execution_count": 37,
     "metadata": {},
     "output_type": "execute_result"
    }
   ],
   "source": [
    "df.groupby(['Time', 'Bedingung'])['heartrate'].agg(['mean', 'std']).round(2)"
   ]
  },
  {
   "cell_type": "markdown",
   "metadata": {},
   "source": [
    "# Conduct a mixed (split-plot) ANOVA\n",
    "There was no statistically significant interaction between time and group, punc = 1.\n",
    "\n",
    "no significant Interaction detected (p>0,05)--> no post-hoc tests\n",
    "Es gab keine statistisch signifikante Interaktion zwischen der Zeit und den Untersuchungsgruppen (F=0,59, p=1, np2=0,036)"
   ]
  },
  {
   "cell_type": "code",
   "execution_count": 38,
   "metadata": {},
   "outputs": [
    {
     "name": "stderr",
     "output_type": "stream",
     "text": [
      "/home/rebekka/anaconda3/lib/python3.6/site-packages/pingouin/distribution.py:955: RuntimeWarning: overflow encountered in double_scalars\n",
      "  W = np.product(eig) / (eig.sum() / d)**d\n",
      "/home/rebekka/anaconda3/lib/python3.6/site-packages/pingouin/distribution.py:956: RuntimeWarning: divide by zero encountered in log\n",
      "  logW = np.log(W)\n"
     ]
    },
    {
     "name": "stdout",
     "output_type": "stream",
     "text": [
      "\n",
      "=============\n",
      "ANOVA SUMMARY\n",
      "=============\n",
      "\n",
      "Source             SS    DF1    DF2        MS      F    p-unc    np2  eps\n",
      "-----------  --------  -----  -----  --------  -----  -------  -----  -----\n",
      "Bedingung    6946.952      1     16  6946.952  0.098    0.758  0.006  -\n",
      "Time         3167.641    511   8176     6.199  0.776    1.000  0.046  0.013\n",
      "Interaction  2439.365    511   8176     4.774  0.598    1.000  0.036  -\n",
      "\n"
     ]
    }
   ],
   "source": [
    "import pingouin as pg\n",
    "# Compute the two-way mixed-design ANOVA\n",
    "aov = pg.mixed_anova(dv='heartrate', within='Time', between='Bedingung', subject='Subject', data=df)\n",
    "# Pretty printing of ANOVA summary\n",
    "pg.print_table(aov)"
   ]
  },
  {
   "cell_type": "code",
   "execution_count": null,
   "metadata": {
    "collapsed": true
   },
   "outputs": [],
   "source": []
  }
 ],
 "metadata": {
  "kernelspec": {
   "display_name": "Python 3",
   "language": "python",
   "name": "python3"
  },
  "language_info": {
   "codemirror_mode": {
    "name": "ipython",
    "version": 3
   },
   "file_extension": ".py",
   "mimetype": "text/x-python",
   "name": "python",
   "nbconvert_exporter": "python",
   "pygments_lexer": "ipython3",
   "version": "3.6.3"
  }
 },
 "nbformat": 4,
 "nbformat_minor": 2
}
