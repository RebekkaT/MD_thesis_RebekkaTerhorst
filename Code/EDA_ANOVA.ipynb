{
 "cells": [
  {
   "cell_type": "markdown",
   "metadata": {},
   "source": [
    "# Load and preprocess data "
   ]
  },
  {
   "cell_type": "code",
   "execution_count": 26,
   "metadata": {},
   "outputs": [
    {
     "data": {
      "text/plain": [
       "0     6.39\n",
       "1     7.30\n",
       "2     6.31\n",
       "3     9.88\n",
       "4     5.98\n",
       "      ... \n",
       "64    6.39\n",
       "65    6.56\n",
       "66    5.98\n",
       "67    2.07\n",
       "68    6.72\n",
       "Name: eda_rate per min, Length: 69, dtype: float64"
      ]
     },
     "execution_count": 26,
     "metadata": {},
     "output_type": "execute_result"
    }
   ],
   "source": [
    "import pandas as pd\n",
    "import numpy as np\n",
    "# Ausschluss Probanden 1,4,10,18\n",
    "# load .csv containig all subjects and eda info\n",
    "df = pd.read_csv('/home/rebekka/Documents/Doktorarbeit/Physio/BekJan/eda_all.csv', header=0)\n",
    "df.loc[:,('eda_rate per min')].astype(float)\n"
   ]
  },
  {
   "cell_type": "code",
   "execution_count": 8,
   "metadata": {},
   "outputs": [
    {
     "name": "stdout",
     "output_type": "stream",
     "text": [
      "    Subject Bedingung  eda_rate per min                       Time\n",
      "0        24     music              6.39   stressI_eda_rate per min\n",
      "1        17     water              7.30   stressI_eda_rate per min\n",
      "2        13     water              6.31   stressI_eda_rate per min\n",
      "3        25     water              9.88   stressI_eda_rate per min\n",
      "4        16     music              5.98   stressI_eda_rate per min\n",
      "..      ...       ...               ...                        ...\n",
      "64       28     music              6.39  stressII_eda_rate per min\n",
      "65        9     water              6.56  stressII_eda_rate per min\n",
      "66       11     music              5.98  stressII_eda_rate per min\n",
      "67       12     water              2.07  stressII_eda_rate per min\n",
      "68       15     water              6.72  stressII_eda_rate per min\n",
      "\n",
      "[69 rows x 4 columns]\n"
     ]
    }
   ],
   "source": [
    "print(df)"
   ]
  },
  {
   "cell_type": "markdown",
   "metadata": {},
   "source": [
    "## Analysis of EDA data\n",
    "\n",
    "## Test for normal distribution\n",
    "\n",
    "https://statistikguru.de/spss/mixed-anova/normalverteilung-ueberpruefen-4.html\n",
    "\n",
    "The independent variable should be normally distributed in each group. If this is the case, results can be interpreted quite easily. If not, there are several studies that verify the conduction of ANOVA even though normally distribution is not met(Glass, Peckham, & Sanders, 1972; Harwell, Rubinstein, Hayes, & Olds, 1992; Salkind, 2010).\n",
    "\n",
    "In our study, GCS data seperated into two groups showed normal distribution (p>0,05).\n",
    "\n",
    "Die unabhängige Variable sollte bei einer mixed ANOVA für jede Gruppe und für jede Stufe des Faktors etwa normalverteilt sein. Ist dies der Fall, so lassen sich die Ergebnisse am fehlerfreisten interpretieren. Allerdings gibt es auch genügend Belege aus aktuellen Studien, dass die ANOVA robust gegenüber einer Verletzung der Normalverteilung ist (Glass, Peckham, & Sanders, 1972; Harwell, Rubinstein, Hayes, & Olds, 1992; Salkind, 2010).\n",
    "\n",
    "Bei den gemessenen EDA-Werten zeigt sich zwischen den Gruppen (Musik vs Wasser) eine Normalverteilung (p>0,05)."
   ]
  },
  {
   "cell_type": "code",
   "execution_count": 9,
   "metadata": {},
   "outputs": [
    {
     "data": {
      "text/html": [
       "<div>\n",
       "<style scoped>\n",
       "    .dataframe tbody tr th:only-of-type {\n",
       "        vertical-align: middle;\n",
       "    }\n",
       "\n",
       "    .dataframe tbody tr th {\n",
       "        vertical-align: top;\n",
       "    }\n",
       "\n",
       "    .dataframe thead th {\n",
       "        text-align: right;\n",
       "    }\n",
       "</style>\n",
       "<table border=\"1\" class=\"dataframe\">\n",
       "  <thead>\n",
       "    <tr style=\"text-align: right;\">\n",
       "      <th></th>\n",
       "      <th>W</th>\n",
       "      <th>pval</th>\n",
       "      <th>normal</th>\n",
       "    </tr>\n",
       "  </thead>\n",
       "  <tbody>\n",
       "    <tr>\n",
       "      <th>music</th>\n",
       "      <td>0.978228</td>\n",
       "      <td>0.685307</td>\n",
       "      <td>True</td>\n",
       "    </tr>\n",
       "    <tr>\n",
       "      <th>water</th>\n",
       "      <td>0.968560</td>\n",
       "      <td>0.441496</td>\n",
       "      <td>True</td>\n",
       "    </tr>\n",
       "  </tbody>\n",
       "</table>\n",
       "</div>"
      ],
      "text/plain": [
       "              W      pval  normal\n",
       "music  0.978228  0.685307    True\n",
       "water  0.968560  0.441496    True"
      ]
     },
     "execution_count": 9,
     "metadata": {},
     "output_type": "execute_result"
    }
   ],
   "source": [
    "# check for a normally distributed sample (normality)\n",
    "import pingouin as pg\n",
    "pg.normality(df, group='Bedingung', dv='eda_rate per min')"
   ]
  },
  {
   "cell_type": "code",
   "execution_count": 10,
   "metadata": {},
   "outputs": [
    {
     "data": {
      "text/plain": [
       "array([[<matplotlib.axes._subplots.AxesSubplot object at 0x7fbcc8dea588>]],\n",
       "      dtype=object)"
      ]
     },
     "execution_count": 10,
     "metadata": {},
     "output_type": "execute_result"
    },
    {
     "data": {
      "image/png": "[encoded data removed]",
      "text/plain": [
       "<Figure size 432x288 with 1 Axes>"
      ]
     },
     "metadata": {},
     "output_type": "display_data"
    }
   ],
   "source": [
    "%matplotlib inline\n",
    "df.hist(column='eda_rate per min')\n"
   ]
  },
  {
   "cell_type": "code",
   "execution_count": 11,
   "metadata": {},
   "outputs": [
    {
     "name": "stdout",
     "output_type": "stream",
     "text": [
      "    Subject Bedingung  eda_rate per min                       Time\n",
      "1        17     water              7.30   stressI_eda_rate per min\n",
      "2        13     water              6.31   stressI_eda_rate per min\n",
      "3        25     water              9.88   stressI_eda_rate per min\n",
      "5        20     water              7.97   stressI_eda_rate per min\n",
      "6        21     water              6.56   stressI_eda_rate per min\n",
      "9         5     water              9.13   stressI_eda_rate per min\n",
      "14       22     water              9.13   stressI_eda_rate per min\n",
      "15        4     water              8.30   stressI_eda_rate per min\n",
      "19        9     water              7.55   stressI_eda_rate per min\n",
      "21       12     water              3.82   stressI_eda_rate per min\n",
      "22       15     water              4.56   stressI_eda_rate per min\n",
      "24       17     water              3.32  acoustic_eda_rate per min\n",
      "25       13     water              0.50  acoustic_eda_rate per min\n",
      "26       25     water              5.15  acoustic_eda_rate per min\n",
      "28       20     water              5.73  acoustic_eda_rate per min\n",
      "29       21     water              1.99  acoustic_eda_rate per min\n",
      "32        5     water              5.98  acoustic_eda_rate per min\n",
      "37       22     water              5.23  acoustic_eda_rate per min\n",
      "38        4     water              3.40  acoustic_eda_rate per min\n",
      "42        9     water              1.66  acoustic_eda_rate per min\n",
      "44       12     water              2.07  acoustic_eda_rate per min\n",
      "45       15     water              1.66  acoustic_eda_rate per min\n",
      "47       17     water              4.40  stressII_eda_rate per min\n",
      "48       13     water              8.96  stressII_eda_rate per min\n",
      "49       25     water             10.79  stressII_eda_rate per min\n",
      "51       20     water              8.55  stressII_eda_rate per min\n",
      "52       21     water              4.81  stressII_eda_rate per min\n",
      "55        5     water              6.72  stressII_eda_rate per min\n",
      "60       22     water              8.71  stressII_eda_rate per min\n",
      "61        4     water              6.97  stressII_eda_rate per min\n",
      "65        9     water              6.56  stressII_eda_rate per min\n",
      "67       12     water              2.07  stressII_eda_rate per min\n",
      "68       15     water              6.72  stressII_eda_rate per min\n"
     ]
    }
   ],
   "source": [
    "# create df containig only subjects that listened to water sounds\n",
    "df_norm_w=df.loc[(df['Bedingung'] == ('water'))]\n",
    "print(df_norm_w)"
   ]
  },
  {
   "cell_type": "code",
   "execution_count": 12,
   "metadata": {},
   "outputs": [
    {
     "name": "stdout",
     "output_type": "stream",
     "text": [
      "    Subject Bedingung  eda_rate per min                       Time\n",
      "0        24     music              6.39   stressI_eda_rate per min\n",
      "4        16     music              5.98   stressI_eda_rate per min\n",
      "7        23     music              7.39   stressI_eda_rate per min\n",
      "8         2     music              6.80   stressI_eda_rate per min\n",
      "10       26     music              3.98   stressI_eda_rate per min\n",
      "11       14     music              8.46   stressI_eda_rate per min\n",
      "12       29     music              9.38   stressI_eda_rate per min\n",
      "13       27     music              4.23   stressI_eda_rate per min\n",
      "16       19     music              9.88   stressI_eda_rate per min\n",
      "17        3     music              7.55   stressI_eda_rate per min\n",
      "18       28     music              5.23   stressI_eda_rate per min\n",
      "20       11     music              6.64   stressI_eda_rate per min\n",
      "23       24     music              4.32  acoustic_eda_rate per min\n",
      "27       16     music              3.82  acoustic_eda_rate per min\n",
      "30       23     music              2.90  acoustic_eda_rate per min\n",
      "31        2     music              3.57  acoustic_eda_rate per min\n",
      "33       26     music              3.98  acoustic_eda_rate per min\n",
      "34       14     music              1.41  acoustic_eda_rate per min\n",
      "35       29     music              3.98  acoustic_eda_rate per min\n",
      "36       27     music              1.99  acoustic_eda_rate per min\n",
      "39       19     music              4.15  acoustic_eda_rate per min\n",
      "40        3     music              4.90  acoustic_eda_rate per min\n",
      "41       28     music              3.57  acoustic_eda_rate per min\n",
      "43       11     music              1.58  acoustic_eda_rate per min\n",
      "46       24     music              4.98  stressII_eda_rate per min\n",
      "50       16     music              8.13  stressII_eda_rate per min\n",
      "53       23     music              5.73  stressII_eda_rate per min\n",
      "54        2     music              6.97  stressII_eda_rate per min\n",
      "56       26     music              6.72  stressII_eda_rate per min\n",
      "57       14     music              7.22  stressII_eda_rate per min\n",
      "58       29     music              7.97  stressII_eda_rate per min\n",
      "59       27     music              3.15  stressII_eda_rate per min\n",
      "62       19     music              8.63  stressII_eda_rate per min\n",
      "63        3     music              7.05  stressII_eda_rate per min\n",
      "64       28     music              6.39  stressII_eda_rate per min\n",
      "66       11     music              5.98  stressII_eda_rate per min\n"
     ]
    }
   ],
   "source": [
    "# create df with subjects that listened to music\n",
    "df_norm_m=df.loc[(df['Bedingung'] == ('music'))]\n",
    "print(df_norm_m)"
   ]
  },
  {
   "cell_type": "code",
   "execution_count": 13,
   "metadata": {},
   "outputs": [
    {
     "data": {
      "text/html": [
       "<div>\n",
       "<style scoped>\n",
       "    .dataframe tbody tr th:only-of-type {\n",
       "        vertical-align: middle;\n",
       "    }\n",
       "\n",
       "    .dataframe tbody tr th {\n",
       "        vertical-align: top;\n",
       "    }\n",
       "\n",
       "    .dataframe thead th {\n",
       "        text-align: right;\n",
       "    }\n",
       "</style>\n",
       "<table border=\"1\" class=\"dataframe\">\n",
       "  <thead>\n",
       "    <tr style=\"text-align: right;\">\n",
       "      <th></th>\n",
       "      <th>W</th>\n",
       "      <th>pval</th>\n",
       "      <th>normal</th>\n",
       "    </tr>\n",
       "  </thead>\n",
       "  <tbody>\n",
       "    <tr>\n",
       "      <th>stressI_eda_rate per min</th>\n",
       "      <td>0.970165</td>\n",
       "      <td>0.912527</td>\n",
       "      <td>True</td>\n",
       "    </tr>\n",
       "    <tr>\n",
       "      <th>acoustic_eda_rate per min</th>\n",
       "      <td>0.895104</td>\n",
       "      <td>0.137137</td>\n",
       "      <td>True</td>\n",
       "    </tr>\n",
       "    <tr>\n",
       "      <th>stressII_eda_rate per min</th>\n",
       "      <td>0.944656</td>\n",
       "      <td>0.560619</td>\n",
       "      <td>True</td>\n",
       "    </tr>\n",
       "  </tbody>\n",
       "</table>\n",
       "</div>"
      ],
      "text/plain": [
       "                                  W      pval  normal\n",
       "stressI_eda_rate per min   0.970165  0.912527    True\n",
       "acoustic_eda_rate per min  0.895104  0.137137    True\n",
       "stressII_eda_rate per min  0.944656  0.560619    True"
      ]
     },
     "execution_count": 13,
     "metadata": {},
     "output_type": "execute_result"
    }
   ],
   "source": [
    "# test for normality in group with music intervention\n",
    "import pingouin as pg\n",
    "pg.normality(df_norm_m, group='Time', dv='eda_rate per min')"
   ]
  },
  {
   "cell_type": "code",
   "execution_count": 14,
   "metadata": {},
   "outputs": [
    {
     "data": {
      "text/html": [
       "<div>\n",
       "<style scoped>\n",
       "    .dataframe tbody tr th:only-of-type {\n",
       "        vertical-align: middle;\n",
       "    }\n",
       "\n",
       "    .dataframe tbody tr th {\n",
       "        vertical-align: top;\n",
       "    }\n",
       "\n",
       "    .dataframe thead th {\n",
       "        text-align: right;\n",
       "    }\n",
       "</style>\n",
       "<table border=\"1\" class=\"dataframe\">\n",
       "  <thead>\n",
       "    <tr style=\"text-align: right;\">\n",
       "      <th></th>\n",
       "      <th>W</th>\n",
       "      <th>pval</th>\n",
       "      <th>normal</th>\n",
       "    </tr>\n",
       "  </thead>\n",
       "  <tbody>\n",
       "    <tr>\n",
       "      <th>stressI_eda_rate per min</th>\n",
       "      <td>0.947874</td>\n",
       "      <td>0.616921</td>\n",
       "      <td>True</td>\n",
       "    </tr>\n",
       "    <tr>\n",
       "      <th>acoustic_eda_rate per min</th>\n",
       "      <td>0.907854</td>\n",
       "      <td>0.229981</td>\n",
       "      <td>True</td>\n",
       "    </tr>\n",
       "    <tr>\n",
       "      <th>stressII_eda_rate per min</th>\n",
       "      <td>0.965919</td>\n",
       "      <td>0.842622</td>\n",
       "      <td>True</td>\n",
       "    </tr>\n",
       "  </tbody>\n",
       "</table>\n",
       "</div>"
      ],
      "text/plain": [
       "                                  W      pval  normal\n",
       "stressI_eda_rate per min   0.947874  0.616921    True\n",
       "acoustic_eda_rate per min  0.907854  0.229981    True\n",
       "stressII_eda_rate per min  0.965919  0.842622    True"
      ]
     },
     "execution_count": 14,
     "metadata": {},
     "output_type": "execute_result"
    }
   ],
   "source": [
    "#test for normality in group with water intervention\n",
    "import pingouin as pg\n",
    "pg.normality(df_norm_w, group='Time', dv='eda_rate per min')"
   ]
  },
  {
   "cell_type": "markdown",
   "metadata": {},
   "source": [
    "## Test for homoscedasticity\n",
    "\n",
    "There was homogeneity of the error variances, as assessed by Levene’s test (p > .05).\n",
    "\n",
    "Homogenität der Varianzen lag vor. \n",
    "\n",
    "Homogenität der Fehlervarianzen der einzelnen Gruppen war gemäß dem Levene-Test für alle Variablen erfüllt (p > .05)."
   ]
  },
  {
   "cell_type": "code",
   "execution_count": 15,
   "metadata": {},
   "outputs": [
    {
     "data": {
      "text/html": [
       "<div>\n",
       "<style scoped>\n",
       "    .dataframe tbody tr th:only-of-type {\n",
       "        vertical-align: middle;\n",
       "    }\n",
       "\n",
       "    .dataframe tbody tr th {\n",
       "        vertical-align: top;\n",
       "    }\n",
       "\n",
       "    .dataframe thead th {\n",
       "        text-align: right;\n",
       "    }\n",
       "</style>\n",
       "<table border=\"1\" class=\"dataframe\">\n",
       "  <thead>\n",
       "    <tr style=\"text-align: right;\">\n",
       "      <th></th>\n",
       "      <th>W</th>\n",
       "      <th>pval</th>\n",
       "      <th>equal_var</th>\n",
       "    </tr>\n",
       "  </thead>\n",
       "  <tbody>\n",
       "    <tr>\n",
       "      <th>levene</th>\n",
       "      <td>0.312</td>\n",
       "      <td>0.733354</td>\n",
       "      <td>True</td>\n",
       "    </tr>\n",
       "  </tbody>\n",
       "</table>\n",
       "</div>"
      ],
      "text/plain": [
       "            W      pval  equal_var\n",
       "levene  0.312  0.733354       True"
      ]
     },
     "execution_count": 15,
     "metadata": {},
     "output_type": "execute_result"
    }
   ],
   "source": [
    "pg.homoscedasticity(df, group='Time', dv='eda_rate per min')"
   ]
  },
  {
   "cell_type": "code",
   "execution_count": 16,
   "metadata": {},
   "outputs": [
    {
     "data": {
      "text/html": [
       "<div>\n",
       "<style scoped>\n",
       "    .dataframe tbody tr th:only-of-type {\n",
       "        vertical-align: middle;\n",
       "    }\n",
       "\n",
       "    .dataframe tbody tr th {\n",
       "        vertical-align: top;\n",
       "    }\n",
       "\n",
       "    .dataframe thead th {\n",
       "        text-align: right;\n",
       "    }\n",
       "</style>\n",
       "<table border=\"1\" class=\"dataframe\">\n",
       "  <thead>\n",
       "    <tr style=\"text-align: right;\">\n",
       "      <th></th>\n",
       "      <th>W</th>\n",
       "      <th>pval</th>\n",
       "      <th>equal_var</th>\n",
       "    </tr>\n",
       "  </thead>\n",
       "  <tbody>\n",
       "    <tr>\n",
       "      <th>levene</th>\n",
       "      <td>0.182</td>\n",
       "      <td>0.834771</td>\n",
       "      <td>True</td>\n",
       "    </tr>\n",
       "  </tbody>\n",
       "</table>\n",
       "</div>"
      ],
      "text/plain": [
       "            W      pval  equal_var\n",
       "levene  0.182  0.834771       True"
      ]
     },
     "execution_count": 16,
     "metadata": {},
     "output_type": "execute_result"
    }
   ],
   "source": [
    "# check for equal variances (homoscedasticity)\n",
    "pg.homoscedasticity(df_norm_w, group='Time', dv='eda_rate per min')"
   ]
  },
  {
   "cell_type": "code",
   "execution_count": 17,
   "metadata": {},
   "outputs": [
    {
     "data": {
      "text/html": [
       "<div>\n",
       "<style scoped>\n",
       "    .dataframe tbody tr th:only-of-type {\n",
       "        vertical-align: middle;\n",
       "    }\n",
       "\n",
       "    .dataframe tbody tr th {\n",
       "        vertical-align: top;\n",
       "    }\n",
       "\n",
       "    .dataframe thead th {\n",
       "        text-align: right;\n",
       "    }\n",
       "</style>\n",
       "<table border=\"1\" class=\"dataframe\">\n",
       "  <thead>\n",
       "    <tr style=\"text-align: right;\">\n",
       "      <th></th>\n",
       "      <th>W</th>\n",
       "      <th>pval</th>\n",
       "      <th>equal_var</th>\n",
       "    </tr>\n",
       "  </thead>\n",
       "  <tbody>\n",
       "    <tr>\n",
       "      <th>levene</th>\n",
       "      <td>1.02</td>\n",
       "      <td>0.371649</td>\n",
       "      <td>True</td>\n",
       "    </tr>\n",
       "  </tbody>\n",
       "</table>\n",
       "</div>"
      ],
      "text/plain": [
       "           W      pval  equal_var\n",
       "levene  1.02  0.371649       True"
      ]
     },
     "execution_count": 17,
     "metadata": {},
     "output_type": "execute_result"
    }
   ],
   "source": [
    "# check for equal variances (homoscedasticity)\n",
    "pg.homoscedasticity(df_norm_m, group='Time', dv='eda_rate per min')"
   ]
  },
  {
   "cell_type": "markdown",
   "metadata": {},
   "source": [
    "## Test for sphericity\n",
    "\n",
    "Sphericity was met.\n",
    "\n",
    "Sphärizität liegt vor."
   ]
  },
  {
   "cell_type": "code",
   "execution_count": 18,
   "metadata": {},
   "outputs": [
    {
     "data": {
      "text/plain": [
       "(True, 0.951, 1.066, 2, 0.586815860107314)"
      ]
     },
     "execution_count": 18,
     "metadata": {},
     "output_type": "execute_result"
    }
   ],
   "source": [
    "pg.sphericity(df, subject='Subject', dv='eda_rate per min', within='Time')"
   ]
  },
  {
   "cell_type": "markdown",
   "metadata": {},
   "source": [
    "## Descriptive statistics"
   ]
  },
  {
   "cell_type": "code",
   "execution_count": 19,
   "metadata": {
    "scrolled": false
   },
   "outputs": [
    {
     "data": {
      "text/plain": [
       "[]"
      ]
     },
     "execution_count": 19,
     "metadata": {},
     "output_type": "execute_result"
    },
    {
     "data": {
      "image/png": "[encoded data removed]",
      "text/plain": [
       "<Figure size 1440x720 with 1 Axes>"
      ]
     },
     "metadata": {},
     "output_type": "display_data"
    }
   ],
   "source": [
    "import seaborn as sns\n",
    "import matplotlib.pyplot as plt\n",
    "%matplotlib inline\n",
    "plt.figure(figsize=(20,10))\n",
    "sns.set()\n",
    "sns.pointplot(data=df, x='Time', y='eda_rate per min', hue='Bedingung', dodge=True, markers=['o', 's'], capsize=.1, errwidth=1, palette='colorblind')\n",
    "plt.plot()"
   ]
  },
  {
   "cell_type": "code",
   "execution_count": 20,
   "metadata": {},
   "outputs": [
    {
     "data": {
      "text/html": [
       "<div>\n",
       "<style scoped>\n",
       "    .dataframe tbody tr th:only-of-type {\n",
       "        vertical-align: middle;\n",
       "    }\n",
       "\n",
       "    .dataframe tbody tr th {\n",
       "        vertical-align: top;\n",
       "    }\n",
       "\n",
       "    .dataframe thead th {\n",
       "        text-align: right;\n",
       "    }\n",
       "</style>\n",
       "<table border=\"1\" class=\"dataframe\">\n",
       "  <thead>\n",
       "    <tr style=\"text-align: right;\">\n",
       "      <th></th>\n",
       "      <th></th>\n",
       "      <th>mean</th>\n",
       "      <th>std</th>\n",
       "    </tr>\n",
       "    <tr>\n",
       "      <th>Time</th>\n",
       "      <th>Bedingung</th>\n",
       "      <th></th>\n",
       "      <th></th>\n",
       "    </tr>\n",
       "  </thead>\n",
       "  <tbody>\n",
       "    <tr>\n",
       "      <th rowspan=\"2\" valign=\"top\">acoustic_eda_rate per min</th>\n",
       "      <th>music</th>\n",
       "      <td>3.35</td>\n",
       "      <td>1.13</td>\n",
       "    </tr>\n",
       "    <tr>\n",
       "      <th>water</th>\n",
       "      <td>3.34</td>\n",
       "      <td>1.92</td>\n",
       "    </tr>\n",
       "    <tr>\n",
       "      <th rowspan=\"2\" valign=\"top\">stressII_eda_rate per min</th>\n",
       "      <th>music</th>\n",
       "      <td>6.58</td>\n",
       "      <td>1.50</td>\n",
       "    </tr>\n",
       "    <tr>\n",
       "      <th>water</th>\n",
       "      <td>6.84</td>\n",
       "      <td>2.44</td>\n",
       "    </tr>\n",
       "    <tr>\n",
       "      <th rowspan=\"2\" valign=\"top\">stressI_eda_rate per min</th>\n",
       "      <th>music</th>\n",
       "      <td>6.83</td>\n",
       "      <td>1.85</td>\n",
       "    </tr>\n",
       "    <tr>\n",
       "      <th>water</th>\n",
       "      <td>7.32</td>\n",
       "      <td>1.90</td>\n",
       "    </tr>\n",
       "  </tbody>\n",
       "</table>\n",
       "</div>"
      ],
      "text/plain": [
       "                                     mean   std\n",
       "Time                      Bedingung            \n",
       "acoustic_eda_rate per min music      3.35  1.13\n",
       "                          water      3.34  1.92\n",
       "stressII_eda_rate per min music      6.58  1.50\n",
       "                          water      6.84  2.44\n",
       "stressI_eda_rate per min  music      6.83  1.85\n",
       "                          water      7.32  1.90"
      ]
     },
     "execution_count": 20,
     "metadata": {},
     "output_type": "execute_result"
    }
   ],
   "source": [
    "df.groupby(['Time', 'Bedingung'])['eda_rate per min'].agg(['mean', 'std']).round(2)"
   ]
  },
  {
   "cell_type": "markdown",
   "metadata": {},
   "source": [
    "# Conduct a mixed (split-plot) ANOVA \n",
    "\n",
    "There was no statistically significant interaction between time and group, punc = 0,801, eps0,953.\n",
    "\n",
    "Es gab keine statistisch signifikante Interaktion zwischen der Zeit und den Untersuchungsgruppen (punc = 0,801, eps0,953) .\n",
    "\n"
   ]
  },
  {
   "cell_type": "code",
   "execution_count": 21,
   "metadata": {},
   "outputs": [
    {
     "name": "stdout",
     "output_type": "stream",
     "text": [
      "\n",
      "=============\n",
      "ANOVA SUMMARY\n",
      "=============\n",
      "\n",
      "Source            SS    DF1    DF2      MS       F    p-unc    np2  eps\n",
      "-----------  -------  -----  -----  ------  ------  -------  -----  -----\n",
      "Bedingung      1.066      1     21   1.066   0.160    0.693  0.008  -\n",
      "Time         193.722      2     42  96.861  58.861    0.000  0.737  0.953\n",
      "Interaction    0.734      2     42   0.367   0.223    0.801  0.011  -\n",
      "\n"
     ]
    }
   ],
   "source": [
    "# https://raphaelvallat.com/pingouin.html\n",
    "#  dv:  A dependent variable: Cortisol\n",
    "#  within: A within-group variable, Time\n",
    "#  between:  A between-group variable, Group, with two levels (music, water)\n",
    "#  subject:  A subject variable, Subject\n",
    "\n",
    "# https://github.com/raphaelvallat/pingouin/blob/master/notebooks/01_ANOVA.ipynb\n",
    "\n",
    "import pingouin as pg\n",
    "# Compute the two-way mixed-design ANOVA\n",
    "aov = pg.mixed_anova(dv='eda_rate per min', within='Time', between='Bedingung', subject='Subject', data=df)\n",
    "# Pretty printing of ANOVA summary\n",
    "pg.print_table(aov)"
   ]
  },
  {
   "cell_type": "markdown",
   "metadata": {},
   "source": [
    "## Conduct repeated measure ANOVAs for the seperate groups (music and water)\n",
    "\n",
    "The rm-ANOVA shows a significant difference between the stresstests and the acoustic intervention (p< 0,05) The post hoc tests show the significance for conditions acoustic - stressI and acoustic - stressII but no significance between the two stresstests.\n",
    "\n",
    "Die RM ANOVA zeigte eine signifikante Interaktion bei der Analyse der einzelnen Zeitpunkte in den separierten Gruppen. Es liegt also eine signifikante Änderung der Hautleitfähigkeit jeweils mit Änderung der Kondition in beiden Gruppen vor (p< 0,05), wie die post hoc Tests zeigen. Hierbei liegt der Unterschied jeweils zwischen den Bedingungen Akustik - StressI/II.\n"
   ]
  },
  {
   "cell_type": "code",
   "execution_count": 22,
   "metadata": {},
   "outputs": [
    {
     "name": "stdout",
     "output_type": "stream",
     "text": [
      "\n",
      "=============\n",
      "ANOVA SUMMARY\n",
      "=============\n",
      "\n",
      "Source      ddof1    ddof2       F    p-unc    np2    eps\n",
      "--------  -------  -------  ------  -------  -----  -----\n",
      "Time            2       22  31.425    0.000  0.741  0.820\n",
      "\n"
     ]
    }
   ],
   "source": [
    "import pingouin as pg\n",
    "# Compute the two-way mixed-design ANOVA\n",
    "prepost = pg.rm_anova(dv='eda_rate per min', within='Time', subject='Subject', data=df_norm_m)\n",
    "# Pretty printing of ANOVA summary\n",
    "pg.print_table(prepost)"
   ]
  },
  {
   "cell_type": "code",
   "execution_count": 23,
   "metadata": {},
   "outputs": [
    {
     "name": "stdout",
     "output_type": "stream",
     "text": [
      "\n",
      "==============\n",
      "POST HOC TESTS\n",
      "==============\n",
      "\n",
      "Contrast    A                          B                          Paired    Parametric         T     dof  Tail         p-unc      BF10    hedges\n",
      "----------  -------------------------  -------------------------  --------  ------------  ------  ------  ---------  -------  --------  --------\n",
      "Time        stressI_eda_rate per min   acoustic_eda_rate per min  True      True           5.863  11.000  two-sided    0.000   268.212     2.253\n",
      "Time        stressI_eda_rate per min   stressII_eda_rate per min  True      True           0.579  11.000  two-sided    0.574     0.332     0.144\n",
      "Time        acoustic_eda_rate per min  stressII_eda_rate per min  True      True          -7.575  11.000  two-sided    0.000  1996.480    -2.370\n",
      "\n"
     ]
    }
   ],
   "source": [
    "t=pg.pairwise_ttests(dv='eda_rate per min', within='Time', subject='Subject', data=df_norm_m)\n",
    "pg.print_table(t)"
   ]
  },
  {
   "cell_type": "code",
   "execution_count": 24,
   "metadata": {},
   "outputs": [
    {
     "name": "stdout",
     "output_type": "stream",
     "text": [
      "\n",
      "=============\n",
      "ANOVA SUMMARY\n",
      "=============\n",
      "\n",
      "Source      ddof1    ddof2       F    p-unc    np2    eps\n",
      "--------  -------  -------  ------  -------  -----  -----\n",
      "Time            2       20  27.771    0.000  0.735  0.704\n",
      "\n"
     ]
    }
   ],
   "source": [
    "import pingouin as pg\n",
    "# Compute the two-way mixed-design ANOVA\n",
    "prepost_w = pg.rm_anova(dv='eda_rate per min', within='Time', subject='Subject', data=df_norm_w)\n",
    "# Pretty printing of ANOVA summary\n",
    "pg.print_table(prepost_w)"
   ]
  },
  {
   "cell_type": "code",
   "execution_count": 25,
   "metadata": {},
   "outputs": [
    {
     "name": "stdout",
     "output_type": "stream",
     "text": [
      "\n",
      "==============\n",
      "POST HOC TESTS\n",
      "==============\n",
      "\n",
      "Contrast    A                          B                          Paired    Parametric         T     dof  Tail         p-unc      BF10    hedges\n",
      "----------  -------------------------  -------------------------  --------  ------------  ------  ------  ---------  -------  --------  --------\n",
      "Time        stressI_eda_rate per min   acoustic_eda_rate per min  True      True           9.683  10.000  two-sided    0.000  8241.388     2.010\n",
      "Time        stressI_eda_rate per min   stressII_eda_rate per min  True      True           0.863  10.000  two-sided    0.408     0.407     0.212\n",
      "Time        acoustic_eda_rate per min  stressII_eda_rate per min  True      True          -4.739  10.000  two-sided    0.001    49.178    -1.550\n",
      "\n"
     ]
    }
   ],
   "source": [
    "t_w=pg.pairwise_ttests(dv='eda_rate per min', within='Time', subject='Subject', data=df_norm_w)\n",
    "pg.print_table(t_w)"
   ]
  },
  {
   "cell_type": "code",
   "execution_count": null,
   "metadata": {
    "collapsed": true
   },
   "outputs": [],
   "source": []
  }
 ],
 "metadata": {
  "kernelspec": {
   "display_name": "Python 3",
   "language": "python",
   "name": "python3"
  },
  "language_info": {
   "codemirror_mode": {
    "name": "ipython",
    "version": 3
   },
   "file_extension": ".py",
   "mimetype": "text/x-python",
   "name": "python",
   "nbconvert_exporter": "python",
   "pygments_lexer": "ipython3",
   "version": "3.6.3"
  }
 },
 "nbformat": 4,
 "nbformat_minor": 2
}
