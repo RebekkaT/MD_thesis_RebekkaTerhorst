{
 "cells": [
  {
   "cell_type": "markdown",
   "metadata": {},
   "source": [
    "# Load and preprocess data "
   ]
  },
  {
   "cell_type": "code",
   "execution_count": 1,
   "metadata": {
    "collapsed": true
   },
   "outputs": [],
   "source": [
    "# import essentiell modules\n",
    "import pandas as pd\n",
    "import numpy as np\n",
    "from scipy import stats\n",
    "from datetime import datetime\n",
    "from sklearn import preprocessing\n",
    "from sklearn.model_selection import KFold\n",
    "from sklearn import datasets, linear_model\n",
    "from sklearn.metrics import mean_squared_error, r2_score\n",
    "from sklearn.linear_model import LinearRegression\n",
    "import matplotlib.pyplot as plt\n",
    "%matplotlib inline"
   ]
  },
  {
   "cell_type": "code",
   "execution_count": 2,
   "metadata": {
    "collapsed": true
   },
   "outputs": [],
   "source": [
    "# exclude sub 1,2,4,7,18,24 wegen Aufzeichungsschwierigkeiten\n",
    "df01=pd.read_csv('/home/rebekka/Documents/Doktorarbeit/Physio/statistics/containig_all_files/physio_sub-03.csv', header=0)\n",
    "df02=pd.read_csv('/home/rebekka/Documents/Doktorarbeit/Physio/statistics/containig_all_files/physio_sub-05.csv', header=0)\n",
    "df03=pd.read_csv('/home/rebekka/Documents/Doktorarbeit/Physio/statistics/containig_all_files/physio_sub-06.csv', header=0)\n",
    "df04=pd.read_csv('/home/rebekka/Documents/Doktorarbeit/Physio/statistics/containig_all_files/physio_sub-08.csv', header=0)\n",
    "df05=pd.read_csv('/home/rebekka/Documents/Doktorarbeit/Physio/statistics/containig_all_files/physio_sub-09.csv', header=0)\n",
    "df06=pd.read_csv('/home/rebekka/Documents/Doktorarbeit/Physio/statistics/containig_all_files/physio_sub-10.csv', header=0)\n",
    "df07=pd.read_csv('/home/rebekka/Documents/Doktorarbeit/Physio/statistics/containig_all_files/physio_sub-11.csv', header=0)\n",
    "df08=pd.read_csv('/home/rebekka/Documents/Doktorarbeit/Physio/statistics/containig_all_files/physio_sub-12.csv', header=0)\n",
    "df09=pd.read_csv('/home/rebekka/Documents/Doktorarbeit/Physio/statistics/containig_all_files/physio_sub-13.csv', header=0)\n",
    "df10=pd.read_csv('/home/rebekka/Documents/Doktorarbeit/Physio/statistics/containig_all_files/physio_sub-14.csv', header=0)\n",
    "df11=pd.read_csv('/home/rebekka/Documents/Doktorarbeit/Physio/statistics/containig_all_files/physio_sub-15.csv', header=0)\n",
    "df12=pd.read_csv('/home/rebekka/Documents/Doktorarbeit/Physio/statistics/containig_all_files/physio_sub-16.csv', header=0)\n",
    "df13=pd.read_csv('/home/rebekka/Documents/Doktorarbeit/Physio/statistics/containig_all_files/physio_sub-17.csv', header=0)\n",
    "df14=pd.read_csv('/home/rebekka/Documents/Doktorarbeit/Physio/statistics/containig_all_files/physio_sub-19.csv', header=0)\n",
    "df15=pd.read_csv('/home/rebekka/Documents/Doktorarbeit/Physio/statistics/containig_all_files/physio_sub-20.csv', header=0)\n",
    "df16=pd.read_csv('/home/rebekka/Documents/Doktorarbeit/Physio/statistics/containig_all_files/physio_sub-21.csv', header=0)\n",
    "df17=pd.read_csv('/home/rebekka/Documents/Doktorarbeit/Physio/statistics/containig_all_files/physio_sub-22.csv', header=0)\n",
    "df18=pd.read_csv('/home/rebekka/Documents/Doktorarbeit/Physio/statistics/containig_all_files/physio_sub-23.csv', header=0)\n",
    "df19=pd.read_csv('/home/rebekka/Documents/Doktorarbeit/Physio/statistics/containig_all_files/physio_sub-26.csv', header=0)\n",
    "df20=pd.read_csv('/home/rebekka/Documents/Doktorarbeit/Physio/statistics/containig_all_files/physio_sub-27.csv', header=0)\n",
    "df21=pd.read_csv('/home/rebekka/Documents/Doktorarbeit/Physio/statistics/containig_all_files/physio_sub-28.csv', header=0)\n",
    "df22=pd.read_csv('/home/rebekka/Documents/Doktorarbeit/Physio/statistics/containig_all_files/physio_sub-29.csv', header=0)\n"
   ]
  },
  {
   "cell_type": "code",
   "execution_count": 3,
   "metadata": {},
   "outputs": [
    {
     "name": "stdout",
     "output_type": "stream",
     "text": [
      "      heartrate Subject Bedingung  Time Timepoint\n",
      "0      53.81935  Sub-03     music     1   stressI\n",
      "1      53.86667  Sub-03     music     2   stressI\n",
      "2      53.77501  Sub-03     music     3   stressI\n",
      "3      53.71714  Sub-03     music     4   stressI\n",
      "4      53.82829  Sub-03     music     5   stressI\n",
      "...         ...     ...       ...   ...       ...\n",
      "1937   69.81132  Sub-29     water  1938  stressII\n",
      "1938   69.66156  Sub-29     water  1939  stressII\n",
      "1939   69.49020  Sub-29     water  1940  stressII\n",
      "1940   69.46305  Sub-29     water  1941  stressII\n",
      "1941   69.56410  Sub-29     water  1942  stressII\n",
      "\n",
      "[42724 rows x 5 columns]\n"
     ]
    }
   ],
   "source": [
    "# concatenate all puls data from all subjects into one df\n",
    "df = pd.concat([df01, df02, df03, df04, df05, df06, df07, df08, df09, df10, df11, df12, df13, df14, df15, df16, df17, df18, df19, df20, df21, df22])\n",
    "print(df)"
   ]
  },
  {
   "cell_type": "markdown",
   "metadata": {},
   "source": [
    "## Analysis of heartrate data\n",
    "\n",
    "## Test for normal distribution\n",
    "\n",
    "https://statistikguru.de/spss/mixed-anova/normalverteilung-ueberpruefen-4.html\n",
    "\n",
    "The independent variable should be normally distributed in each group. If this is the case, results can be interpreted quite easily. If not, there are several studies that verify the conduction of ANOVA even though normally distribution is not met(Glass, Peckham, & Sanders, 1972; Harwell, Rubinstein, Hayes, & Olds, 1992; Salkind, 2010).\n",
    "\n",
    "In our study, heartrate data seperated into two groups showed no normal distribution even not after beeing logharithmically transformed (p< 0,05).\n",
    "While analysing each group seperatly for each timepoint showed a normal distribution (p>0,05).\n",
    "\n",
    "\n",
    "Die unabhängige Variable sollte bei einer mixed ANOVA für jede Gruppe und für jede Stufe des Faktors etwa normalverteilt sein. Ist dies der Fall, so lassen sich die Ergebnisse am fehlerfreisten interpretieren. Allerdings gibt es auch genügend Belege aus aktuellen Studien, dass die ANOVA robust gegenüber einer Verletzung der Normalverteilung ist (Glass, Peckham, & Sanders, 1972; Harwell, Rubinstein, Hayes, & Olds, 1992; Salkind, 2010).\n",
    "\n",
    "Puls-Werte waren für alle Gruppen nicht normalverteilt (p < .05). In der Analyse der einzelnen Gruppen zu jedem Zeitpunkt zeigte sich allerdings jeweils eine Normalverteilung."
   ]
  },
  {
   "cell_type": "code",
   "execution_count": 5,
   "metadata": {},
   "outputs": [
    {
     "name": "stderr",
     "output_type": "stream",
     "text": [
      "/home/rebekka/anaconda3/lib/python3.6/site-packages/scipy/stats/morestats.py:1676: UserWarning: p-value may not be accurate for N > 5000.\n",
      "  warnings.warn(\"p-value may not be accurate for N > 5000.\")\n"
     ]
    },
    {
     "data": {
      "text/html": [
       "<div>\n",
       "<style scoped>\n",
       "    .dataframe tbody tr th:only-of-type {\n",
       "        vertical-align: middle;\n",
       "    }\n",
       "\n",
       "    .dataframe tbody tr th {\n",
       "        vertical-align: top;\n",
       "    }\n",
       "\n",
       "    .dataframe thead th {\n",
       "        text-align: right;\n",
       "    }\n",
       "</style>\n",
       "<table border=\"1\" class=\"dataframe\">\n",
       "  <thead>\n",
       "    <tr style=\"text-align: right;\">\n",
       "      <th></th>\n",
       "      <th>W</th>\n",
       "      <th>pval</th>\n",
       "      <th>normal</th>\n",
       "    </tr>\n",
       "  </thead>\n",
       "  <tbody>\n",
       "    <tr>\n",
       "      <th>music</th>\n",
       "      <td>0.975721</td>\n",
       "      <td>0.0</td>\n",
       "      <td>False</td>\n",
       "    </tr>\n",
       "    <tr>\n",
       "      <th>water</th>\n",
       "      <td>0.967066</td>\n",
       "      <td>0.0</td>\n",
       "      <td>False</td>\n",
       "    </tr>\n",
       "  </tbody>\n",
       "</table>\n",
       "</div>"
      ],
      "text/plain": [
       "              W  pval  normal\n",
       "music  0.975721   0.0   False\n",
       "water  0.967066   0.0   False"
      ]
     },
     "execution_count": 5,
     "metadata": {},
     "output_type": "execute_result"
    }
   ],
   "source": [
    "# check for a normally distributed sample (normality)\n",
    "import pingouin as pg\n",
    "pg.normality(df, group='Bedingung', dv='heartrate')"
   ]
  },
  {
   "cell_type": "code",
   "execution_count": 7,
   "metadata": {},
   "outputs": [
    {
     "data": {
      "text/html": [
       "<div>\n",
       "<style scoped>\n",
       "    .dataframe tbody tr th:only-of-type {\n",
       "        vertical-align: middle;\n",
       "    }\n",
       "\n",
       "    .dataframe tbody tr th {\n",
       "        vertical-align: top;\n",
       "    }\n",
       "\n",
       "    .dataframe thead th {\n",
       "        text-align: right;\n",
       "    }\n",
       "</style>\n",
       "<table border=\"1\" class=\"dataframe\">\n",
       "  <thead>\n",
       "    <tr style=\"text-align: right;\">\n",
       "      <th></th>\n",
       "      <th>W</th>\n",
       "      <th>pval</th>\n",
       "      <th>normal</th>\n",
       "    </tr>\n",
       "  </thead>\n",
       "  <tbody>\n",
       "    <tr>\n",
       "      <th>1</th>\n",
       "      <td>0.951181</td>\n",
       "      <td>0.659078</td>\n",
       "      <td>True</td>\n",
       "    </tr>\n",
       "    <tr>\n",
       "      <th>2</th>\n",
       "      <td>0.957229</td>\n",
       "      <td>0.736712</td>\n",
       "      <td>True</td>\n",
       "    </tr>\n",
       "    <tr>\n",
       "      <th>3</th>\n",
       "      <td>0.951555</td>\n",
       "      <td>0.663879</td>\n",
       "      <td>True</td>\n",
       "    </tr>\n",
       "    <tr>\n",
       "      <th>4</th>\n",
       "      <td>0.945963</td>\n",
       "      <td>0.592900</td>\n",
       "      <td>True</td>\n",
       "    </tr>\n",
       "    <tr>\n",
       "      <th>5</th>\n",
       "      <td>0.946944</td>\n",
       "      <td>0.605185</td>\n",
       "      <td>True</td>\n",
       "    </tr>\n",
       "    <tr>\n",
       "      <th>...</th>\n",
       "      <td>...</td>\n",
       "      <td>...</td>\n",
       "      <td>...</td>\n",
       "    </tr>\n",
       "    <tr>\n",
       "      <th>1938</th>\n",
       "      <td>0.945242</td>\n",
       "      <td>0.583929</td>\n",
       "      <td>True</td>\n",
       "    </tr>\n",
       "    <tr>\n",
       "      <th>1939</th>\n",
       "      <td>0.945109</td>\n",
       "      <td>0.582276</td>\n",
       "      <td>True</td>\n",
       "    </tr>\n",
       "    <tr>\n",
       "      <th>1940</th>\n",
       "      <td>0.947856</td>\n",
       "      <td>0.616694</td>\n",
       "      <td>True</td>\n",
       "    </tr>\n",
       "    <tr>\n",
       "      <th>1941</th>\n",
       "      <td>0.950180</td>\n",
       "      <td>0.646250</td>\n",
       "      <td>True</td>\n",
       "    </tr>\n",
       "    <tr>\n",
       "      <th>1942</th>\n",
       "      <td>0.950737</td>\n",
       "      <td>0.653386</td>\n",
       "      <td>True</td>\n",
       "    </tr>\n",
       "  </tbody>\n",
       "</table>\n",
       "<p>1942 rows × 3 columns</p>\n",
       "</div>"
      ],
      "text/plain": [
       "             W      pval  normal\n",
       "1     0.951181  0.659078    True\n",
       "2     0.957229  0.736712    True\n",
       "3     0.951555  0.663879    True\n",
       "4     0.945963  0.592900    True\n",
       "5     0.946944  0.605185    True\n",
       "...        ...       ...     ...\n",
       "1938  0.945242  0.583929    True\n",
       "1939  0.945109  0.582276    True\n",
       "1940  0.947856  0.616694    True\n",
       "1941  0.950180  0.646250    True\n",
       "1942  0.950737  0.653386    True\n",
       "\n",
       "[1942 rows x 3 columns]"
      ]
     },
     "execution_count": 7,
     "metadata": {},
     "output_type": "execute_result"
    }
   ],
   "source": [
    "# check for normal distribution in the group listening to water\n",
    "df_norm_w=df.loc[(df['Bedingung'] == ('water'))]\n",
    "pg.normality(df_norm_w, group='Time', dv='heartrate')"
   ]
  },
  {
   "cell_type": "code",
   "execution_count": 8,
   "metadata": {},
   "outputs": [
    {
     "data": {
      "text/html": [
       "<div>\n",
       "<style scoped>\n",
       "    .dataframe tbody tr th:only-of-type {\n",
       "        vertical-align: middle;\n",
       "    }\n",
       "\n",
       "    .dataframe tbody tr th {\n",
       "        vertical-align: top;\n",
       "    }\n",
       "\n",
       "    .dataframe thead th {\n",
       "        text-align: right;\n",
       "    }\n",
       "</style>\n",
       "<table border=\"1\" class=\"dataframe\">\n",
       "  <thead>\n",
       "    <tr style=\"text-align: right;\">\n",
       "      <th></th>\n",
       "      <th>W</th>\n",
       "      <th>pval</th>\n",
       "      <th>normal</th>\n",
       "    </tr>\n",
       "  </thead>\n",
       "  <tbody>\n",
       "    <tr>\n",
       "      <th>1</th>\n",
       "      <td>0.974923</td>\n",
       "      <td>0.931447</td>\n",
       "      <td>True</td>\n",
       "    </tr>\n",
       "    <tr>\n",
       "      <th>2</th>\n",
       "      <td>0.972204</td>\n",
       "      <td>0.907864</td>\n",
       "      <td>True</td>\n",
       "    </tr>\n",
       "    <tr>\n",
       "      <th>3</th>\n",
       "      <td>0.971232</td>\n",
       "      <td>0.898682</td>\n",
       "      <td>True</td>\n",
       "    </tr>\n",
       "    <tr>\n",
       "      <th>4</th>\n",
       "      <td>0.968805</td>\n",
       "      <td>0.874216</td>\n",
       "      <td>True</td>\n",
       "    </tr>\n",
       "    <tr>\n",
       "      <th>5</th>\n",
       "      <td>0.966734</td>\n",
       "      <td>0.851786</td>\n",
       "      <td>True</td>\n",
       "    </tr>\n",
       "    <tr>\n",
       "      <th>...</th>\n",
       "      <td>...</td>\n",
       "      <td>...</td>\n",
       "      <td>...</td>\n",
       "    </tr>\n",
       "    <tr>\n",
       "      <th>1938</th>\n",
       "      <td>0.968271</td>\n",
       "      <td>0.868562</td>\n",
       "      <td>True</td>\n",
       "    </tr>\n",
       "    <tr>\n",
       "      <th>1939</th>\n",
       "      <td>0.970011</td>\n",
       "      <td>0.886635</td>\n",
       "      <td>True</td>\n",
       "    </tr>\n",
       "    <tr>\n",
       "      <th>1940</th>\n",
       "      <td>0.970834</td>\n",
       "      <td>0.894816</td>\n",
       "      <td>True</td>\n",
       "    </tr>\n",
       "    <tr>\n",
       "      <th>1941</th>\n",
       "      <td>0.971563</td>\n",
       "      <td>0.901857</td>\n",
       "      <td>True</td>\n",
       "    </tr>\n",
       "    <tr>\n",
       "      <th>1942</th>\n",
       "      <td>0.970493</td>\n",
       "      <td>0.891462</td>\n",
       "      <td>True</td>\n",
       "    </tr>\n",
       "  </tbody>\n",
       "</table>\n",
       "<p>1942 rows × 3 columns</p>\n",
       "</div>"
      ],
      "text/plain": [
       "             W      pval  normal\n",
       "1     0.974923  0.931447    True\n",
       "2     0.972204  0.907864    True\n",
       "3     0.971232  0.898682    True\n",
       "4     0.968805  0.874216    True\n",
       "5     0.966734  0.851786    True\n",
       "...        ...       ...     ...\n",
       "1938  0.968271  0.868562    True\n",
       "1939  0.970011  0.886635    True\n",
       "1940  0.970834  0.894816    True\n",
       "1941  0.971563  0.901857    True\n",
       "1942  0.970493  0.891462    True\n",
       "\n",
       "[1942 rows x 3 columns]"
      ]
     },
     "execution_count": 8,
     "metadata": {},
     "output_type": "execute_result"
    }
   ],
   "source": [
    "#check for normal distribution in the group listening to music\n",
    "df_norm_m=df.loc[(df['Bedingung'] == ('music'))]\n",
    "pg.normality(df_norm_m, group='Time', dv='heartrate')"
   ]
  },
  {
   "cell_type": "markdown",
   "metadata": {},
   "source": [
    "## Test for homoscedasticity\n",
    "\n",
    "There was homogeneity of the error variances, as assessed by Levene’s test (p > .05).\n",
    "\n",
    "Homogenität des Varianzen ist gegeben\n",
    "\n",
    "Homogenität der Fehlervarianzen zwischen den Gruppen war gemäß dem Levene-Test für alle Variablen erfüllt (p > .05)."
   ]
  },
  {
   "cell_type": "code",
   "execution_count": 8,
   "metadata": {},
   "outputs": [
    {
     "data": {
      "text/html": [
       "<div>\n",
       "<style scoped>\n",
       "    .dataframe tbody tr th:only-of-type {\n",
       "        vertical-align: middle;\n",
       "    }\n",
       "\n",
       "    .dataframe tbody tr th {\n",
       "        vertical-align: top;\n",
       "    }\n",
       "\n",
       "    .dataframe thead th {\n",
       "        text-align: right;\n",
       "    }\n",
       "</style>\n",
       "<table border=\"1\" class=\"dataframe\">\n",
       "  <thead>\n",
       "    <tr style=\"text-align: right;\">\n",
       "      <th></th>\n",
       "      <th>W</th>\n",
       "      <th>pval</th>\n",
       "      <th>equal_var</th>\n",
       "    </tr>\n",
       "  </thead>\n",
       "  <tbody>\n",
       "    <tr>\n",
       "      <th>levene</th>\n",
       "      <td>0.415</td>\n",
       "      <td>1.0</td>\n",
       "      <td>True</td>\n",
       "    </tr>\n",
       "  </tbody>\n",
       "</table>\n",
       "</div>"
      ],
      "text/plain": [
       "            W  pval  equal_var\n",
       "levene  0.415   1.0       True"
      ]
     },
     "execution_count": 8,
     "metadata": {},
     "output_type": "execute_result"
    }
   ],
   "source": [
    "# check for equal variances (homoscedasticity)\n",
    "pg.homoscedasticity(df, group='Time', dv='heartrate')"
   ]
  },
  {
   "cell_type": "markdown",
   "metadata": {},
   "source": [
    "## Test for sphericity\n",
    "\n",
    "Sphericity was met (p>0,05)\n",
    "\n",
    "Für die Pulsdaten liegt Sphärizität vor (Mauchly Test: p>0,05)\n",
    "\n",
    "\n",
    "Sphärizität ist eine der wichtigsten Voraussetzungen der mixed ANOVA. Sphärizität ist eine Annahme, die bei allen Verfahren mit Messwiederholung gemacht wird, die mehr als zwei Stufen haben. Bei vorliegender Sphärizität sind die Differenzen aller Stufen der unabhängigen Variablen gleich. Man sagt auch, das Homoskedastizität zwischen den Stufen vorliegt."
   ]
  },
  {
   "cell_type": "code",
   "execution_count": 9,
   "metadata": {},
   "outputs": [
    {
     "name": "stderr",
     "output_type": "stream",
     "text": [
      "/home/rebekka/anaconda3/lib/python3.6/site-packages/pingouin/distribution.py:955: RuntimeWarning: overflow encountered in double_scalars\n",
      "  W = np.product(eig) / (eig.sum() / d)**d\n",
      "/home/rebekka/anaconda3/lib/python3.6/site-packages/pingouin/distribution.py:956: RuntimeWarning: divide by zero encountered in log\n",
      "  logW = np.log(W)\n"
     ]
    },
    {
     "data": {
      "text/plain": [
       "(True, 0.0, -inf, 1884710, 1.0)"
      ]
     },
     "execution_count": 9,
     "metadata": {},
     "output_type": "execute_result"
    }
   ],
   "source": [
    "pg.sphericity(df, subject='Subject', dv='heartrate', within='Time')"
   ]
  },
  {
   "cell_type": "markdown",
   "metadata": {},
   "source": [
    "## Descriptive statistics"
   ]
  },
  {
   "cell_type": "code",
   "execution_count": 4,
   "metadata": {},
   "outputs": [
    {
     "data": {
      "text/plain": [
       "<matplotlib.axes._subplots.AxesSubplot at 0x7f3a93597c50>"
      ]
     },
     "execution_count": 4,
     "metadata": {},
     "output_type": "execute_result"
    },
    {
     "data": {
      "image/png": "[encoded data removed]",
      "text/plain": [
       "<Figure size 432x288 with 1 Axes>"
      ]
     },
     "metadata": {},
     "output_type": "display_data"
    }
   ],
   "source": [
    "import seaborn as sns\n",
    "import matplotlib.pyplot as plt\n",
    "%matplotlib inline\n",
    "sns.set(style=\"darkgrid\")\n",
    "sns.lineplot(x=(\"Time\"), y=\"heartrate\", hue=\"Bedingung\", data=df)"
   ]
  },
  {
   "cell_type": "code",
   "execution_count": 5,
   "metadata": {},
   "outputs": [
    {
     "data": {
      "text/plain": [
       "<matplotlib.axes._subplots.AxesSubplot at 0x7f3a9134d358>"
      ]
     },
     "execution_count": 5,
     "metadata": {},
     "output_type": "execute_result"
    },
    {
     "data": {
      "image/png": "[encoded data removed]",
      "text/plain": [
       "<Figure size 432x288 with 1 Axes>"
      ]
     },
     "metadata": {},
     "output_type": "display_data"
    }
   ],
   "source": [
    "import seaborn as sns\n",
    "import matplotlib.pyplot as plt\n",
    "%matplotlib inline\n",
    "sns.set(style=\"darkgrid\")\n",
    "sns.lineplot(x=(\"Timepoint\"), y=\"heartrate\", hue=\"Bedingung\", sort=False, data=df)"
   ]
  },
  {
   "cell_type": "code",
   "execution_count": 11,
   "metadata": {
    "scrolled": true
   },
   "outputs": [
    {
     "data": {
      "text/html": [
       "<div>\n",
       "<style scoped>\n",
       "    .dataframe tbody tr th:only-of-type {\n",
       "        vertical-align: middle;\n",
       "    }\n",
       "\n",
       "    .dataframe tbody tr th {\n",
       "        vertical-align: top;\n",
       "    }\n",
       "\n",
       "    .dataframe thead th {\n",
       "        text-align: right;\n",
       "    }\n",
       "</style>\n",
       "<table border=\"1\" class=\"dataframe\">\n",
       "  <thead>\n",
       "    <tr style=\"text-align: right;\">\n",
       "      <th></th>\n",
       "      <th></th>\n",
       "      <th>mean</th>\n",
       "      <th>std</th>\n",
       "    </tr>\n",
       "    <tr>\n",
       "      <th>Timepoint</th>\n",
       "      <th>Bedingung</th>\n",
       "      <th></th>\n",
       "      <th></th>\n",
       "    </tr>\n",
       "  </thead>\n",
       "  <tbody>\n",
       "    <tr>\n",
       "      <th rowspan=\"2\" valign=\"top\">acoustic</th>\n",
       "      <th>music</th>\n",
       "      <td>70.20</td>\n",
       "      <td>12.79</td>\n",
       "    </tr>\n",
       "    <tr>\n",
       "      <th>water</th>\n",
       "      <td>73.01</td>\n",
       "      <td>10.12</td>\n",
       "    </tr>\n",
       "    <tr>\n",
       "      <th rowspan=\"2\" valign=\"top\">stressI</th>\n",
       "      <th>music</th>\n",
       "      <td>81.99</td>\n",
       "      <td>16.09</td>\n",
       "    </tr>\n",
       "    <tr>\n",
       "      <th>water</th>\n",
       "      <td>80.94</td>\n",
       "      <td>12.07</td>\n",
       "    </tr>\n",
       "    <tr>\n",
       "      <th rowspan=\"2\" valign=\"top\">stressII</th>\n",
       "      <th>music</th>\n",
       "      <td>80.57</td>\n",
       "      <td>17.76</td>\n",
       "    </tr>\n",
       "    <tr>\n",
       "      <th>water</th>\n",
       "      <td>79.08</td>\n",
       "      <td>10.38</td>\n",
       "    </tr>\n",
       "  </tbody>\n",
       "</table>\n",
       "</div>"
      ],
      "text/plain": [
       "                      mean    std\n",
       "Timepoint Bedingung              \n",
       "acoustic  music      70.20  12.79\n",
       "          water      73.01  10.12\n",
       "stressI   music      81.99  16.09\n",
       "          water      80.94  12.07\n",
       "stressII  music      80.57  17.76\n",
       "          water      79.08  10.38"
      ]
     },
     "execution_count": 11,
     "metadata": {},
     "output_type": "execute_result"
    }
   ],
   "source": [
    "df.groupby(['Timepoint', 'Bedingung'])['heartrate'].agg(['mean', 'std']).round(2)"
   ]
  },
  {
   "cell_type": "markdown",
   "metadata": {},
   "source": [
    "# Conduct a mixed (split-plot) ANOVA\n",
    "There was no statistically significant interaction between time and group, punc = 0,093.\n",
    "\n",
    "no significant Interaction detected (p>0,05)--> no post-hoc tests\n",
    "Es gab keine statistisch signifikante Interaktion zwischen der Zeit und den Untersuchungsgruppen ( p=0,093, np2=0,112)"
   ]
  },
  {
   "cell_type": "code",
   "execution_count": 6,
   "metadata": {},
   "outputs": [
    {
     "name": "stdout",
     "output_type": "stream",
     "text": [
      "\n",
      "=============\n",
      "ANOVA SUMMARY\n",
      "=============\n",
      "\n",
      "Source             SS    DF1    DF2       MS       F    p-unc    np2  eps\n",
      "-----------  --------  -----  -----  -------  ------  -------  -----  -----\n",
      "Bedingung       0.148      1     20    0.148   0.000    0.986  0.000  -\n",
      "Timepoint    1228.042      2     40  614.021  50.249    0.000  0.715  0.819\n",
      "Interaction    61.651      2     40   30.825   2.523    0.093  0.112  -\n",
      "\n"
     ]
    }
   ],
   "source": [
    "import pingouin as pg\n",
    "# Compute the two-way mixed-design ANOVA\n",
    "aov = pg.mixed_anova(dv='heartrate', within='Timepoint', between='Bedingung', subject='Subject', data=df)\n",
    "# Pretty printing of ANOVA summary\n",
    "pg.print_table(aov)"
   ]
  },
  {
   "cell_type": "markdown",
   "metadata": {},
   "source": [
    "## Conduct repeated measure ANOVAs for the seperate groups (music and water)\n",
    "\n",
    "The rm-ANOVA shows a significant difference between the stresstests and the acoustic intervention (p< 0,05)\n",
    "The post hoc tests show the significance for all 3 conditions.\n",
    "\n",
    "Die RM ANOVA zeigte eine signifikante Interaktion bei der Analyse der einzelnen Zeitpunkte in den separierten Gruppen. Es liegt also eine signifikante Pulsänderung jeweils mit Änderung der Kondition in beiden Gruppen vor (p< 0,05), wie die post hoc Tests zeigen. "
   ]
  },
  {
   "cell_type": "code",
   "execution_count": 9,
   "metadata": {},
   "outputs": [
    {
     "name": "stdout",
     "output_type": "stream",
     "text": [
      "\n",
      "=============\n",
      "ANOVA SUMMARY\n",
      "=============\n",
      "\n",
      "Source       ddof1    ddof2       F    p-unc    p-GG-corr    np2    eps  sphericity      W-spher    p-spher\n",
      "---------  -------  -------  ------  -------  -----------  -----  -----  ------------  ---------  ---------\n",
      "Timepoint        2       20  29.661    0.000        0.000  0.748  0.603  False             0.342      0.008\n",
      "\n"
     ]
    }
   ],
   "source": [
    "import pingouin as pg\n",
    "# Compute the two-way mixed-design ANOVA\n",
    "prepost = pg.rm_anova(dv='heartrate', within='Timepoint', subject='Subject', data=df_norm_m)\n",
    "# Pretty printing of ANOVA summary\n",
    "pg.print_table(prepost)"
   ]
  },
  {
   "cell_type": "code",
   "execution_count": 11,
   "metadata": {},
   "outputs": [
    {
     "name": "stdout",
     "output_type": "stream",
     "text": [
      "\n",
      "==============\n",
      "POST HOC TESTS\n",
      "==============\n",
      "\n",
      "Contrast    A         B         Paired    Parametric          T        dof  Tail         p-unc                             BF10    hedges\n",
      "----------  --------  --------  --------  ------------  -------  ---------  ---------  -------  -------------------------------  --------\n",
      "Timepoint   stressI   acoustic  True      True           47.359  13350.430  two-sided    0.000                          inf         0.796\n",
      "Timepoint   stressI   stressII  True      True           11.384   7864.000  two-sided    0.000  101399999999999998406164480.000     0.084\n",
      "Timepoint   acoustic  stressII  True      True          -39.439  13494.600  two-sided    0.000                          inf        -0.653\n",
      "\n"
     ]
    },
    {
     "name": "stderr",
     "output_type": "stream",
     "text": [
      "/home/rebekka/anaconda3/lib/python3.6/site-packages/pingouin/parametric.py:198: UserWarning: x and y have unequal sizes. Switching to paired == False. Check your data.\n",
      "  warnings.warn(\"x and y have unequal sizes. Switching to \"\n",
      "/home/rebekka/anaconda3/lib/python3.6/site-packages/pingouin/bayesian.py:151: RuntimeWarning: divide by zero encountered in double_scalars\n",
      "  bf10 = 1 / ((1 + t**2 / df)**(-(df + 1) / 2) / integr)\n",
      "/home/rebekka/anaconda3/lib/python3.6/site-packages/pingouin/effsize.py:672: UserWarning: x and y have unequal sizes. Switching to paired == False.\n",
      "  warnings.warn(\"x and y have unequal sizes. Switching to \"\n",
      "/home/rebekka/anaconda3/lib/python3.6/site-packages/pingouin/bayesian.py:151: RuntimeWarning: overflow encountered in double_scalars\n",
      "  bf10 = 1 / ((1 + t**2 / df)**(-(df + 1) / 2) / integr)\n"
     ]
    }
   ],
   "source": [
    "t=pg.pairwise_ttests(dv='heartrate', within='Timepoint', subject='Subject', data=df_norm_m)\n",
    "pg.print_table(t)"
   ]
  },
  {
   "cell_type": "code",
   "execution_count": 12,
   "metadata": {},
   "outputs": [
    {
     "name": "stdout",
     "output_type": "stream",
     "text": [
      "\n",
      "=============\n",
      "ANOVA SUMMARY\n",
      "=============\n",
      "\n",
      "Source       ddof1    ddof2       F    p-unc    np2    eps\n",
      "---------  -------  -------  ------  -------  -----  -----\n",
      "Timepoint        2       20  20.839    0.000  0.676  0.846\n",
      "\n"
     ]
    }
   ],
   "source": [
    "import pingouin as pg\n",
    "# Compute the two-way mixed-design ANOVA\n",
    "prepost_w = pg.rm_anova(dv='heartrate', within='Timepoint', subject='Subject', data=df_norm_w)\n",
    "# Pretty printing of ANOVA summary\n",
    "pg.print_table(prepost_w)"
   ]
  },
  {
   "cell_type": "code",
   "execution_count": 13,
   "metadata": {},
   "outputs": [
    {
     "name": "stdout",
     "output_type": "stream",
     "text": [
      "\n",
      "==============\n",
      "POST HOC TESTS\n",
      "==============\n",
      "\n",
      "Contrast    A         B         Paired    Parametric          T        dof  Tail         p-unc                                                                                                                                                                                                                                                 BF10    hedges\n",
      "----------  --------  --------  --------  ------------  -------  ---------  ---------  -------  ---------------------------------------------------------------------------------------------------------------------------------------------------------------------------------------------------------------------------------------------------  --------\n",
      "Timepoint   stressI   acoustic  True      True           41.368  13164.200  two-sided    0.000                                                                                                                                                                                                                                              inf         0.702\n",
      "Timepoint   stressI   stressII  True      True           18.141   7864.000  two-sided    0.000                                                                                                                                                                            121200000000000011855801171173121014007089032749776828246285315211264.000     0.166\n",
      "Timepoint   acoustic  stressII  True      True          -33.976  12304.430  two-sided    0.000  39479999999999999410533167591579886830070198004261932732324405270147480231410831586176550438386083870441576412336840630670960403038671083117893449671784372364729784489102821108981736607949918811771878004319318176332957178041304969262399488.000    -0.591\n",
      "\n"
     ]
    },
    {
     "name": "stderr",
     "output_type": "stream",
     "text": [
      "/home/rebekka/anaconda3/lib/python3.6/site-packages/pingouin/parametric.py:198: UserWarning: x and y have unequal sizes. Switching to paired == False. Check your data.\n",
      "  warnings.warn(\"x and y have unequal sizes. Switching to \"\n",
      "/home/rebekka/anaconda3/lib/python3.6/site-packages/pingouin/bayesian.py:151: RuntimeWarning: divide by zero encountered in double_scalars\n",
      "  bf10 = 1 / ((1 + t**2 / df)**(-(df + 1) / 2) / integr)\n",
      "/home/rebekka/anaconda3/lib/python3.6/site-packages/pingouin/effsize.py:672: UserWarning: x and y have unequal sizes. Switching to paired == False.\n",
      "  warnings.warn(\"x and y have unequal sizes. Switching to \"\n"
     ]
    }
   ],
   "source": [
    "t_w=pg.pairwise_ttests(dv='heartrate', within='Timepoint', subject='Subject', data=df_norm_w)\n",
    "pg.print_table(t_w)"
   ]
  }
 ],
 "metadata": {
  "kernelspec": {
   "display_name": "Python 3",
   "language": "python",
   "name": "python3"
  },
  "language_info": {
   "codemirror_mode": {
    "name": "ipython",
    "version": 3
   },
   "file_extension": ".py",
   "mimetype": "text/x-python",
   "name": "python",
   "nbconvert_exporter": "python",
   "pygments_lexer": "ipython3",
   "version": "3.6.3"
  }
 },
 "nbformat": 4,
 "nbformat_minor": 2
}
