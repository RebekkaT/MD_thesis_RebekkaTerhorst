{
 "cells": [
  {
   "cell_type": "markdown",
   "metadata": {},
   "source": [
    "# Load and preprocess data "
   ]
  },
  {
   "cell_type": "code",
   "execution_count": 1,
   "metadata": {},
   "outputs": [
    {
     "data": {
      "text/plain": [
       "0      1.0\n",
       "1      2.0\n",
       "2      3.0\n",
       "3      4.0\n",
       "4      5.0\n",
       "      ... \n",
       "157    2.0\n",
       "158    3.0\n",
       "159    4.0\n",
       "160    5.0\n",
       "161    6.0\n",
       "Name: Time, Length: 162, dtype: float64"
      ]
     },
     "execution_count": 1,
     "metadata": {},
     "output_type": "execute_result"
    }
   ],
   "source": [
    "#Ausschluss der Probanden HOAF_test_01 (erster test des Gesamtablaufs) und HOAF_01(kein akustischer imput möglich) \n",
    "import pandas as pd\n",
    "import numpy as np\n",
    "# musik_listening-Subjects: 3,5,6,14,16,19,23,26,27,28\n",
    "# create .csv with Cortisol data of all music listening subjects over time\n",
    "df = pd.read_csv('/home/rebekka/Documents/Doktorarbeit/Physio/Cortisol_Anova_Auschluss.csv', header=1, usecols= [1,2,3,6])\n",
    "df.loc[:,('Cortisol_in_nmolproL')].astype(float)\n",
    "df.loc[:,('Time')].astype(float)"
   ]
  },
  {
   "cell_type": "code",
   "execution_count": 2,
   "metadata": {
    "collapsed": true
   },
   "outputs": [],
   "source": [
    "#drop NaN\n",
    "df=df.dropna()"
   ]
  },
  {
   "cell_type": "code",
   "execution_count": 3,
   "metadata": {},
   "outputs": [
    {
     "name": "stdout",
     "output_type": "stream",
     "text": [
      "    Between_group_variable  Time Subject  Cortisol_in_nmolproL\n",
      "0                    music     1  Sub-02                  9.17\n",
      "1                    music     2  Sub-02                  3.84\n",
      "2                    music     3  Sub-02                  4.44\n",
      "3                    music     4  Sub-02                  3.34\n",
      "4                    music     5  Sub-02                  4.64\n",
      "..                     ...   ...     ...                   ...\n",
      "157                  music     2  Sub-29                 12.31\n",
      "158                  music     3  Sub-29                 16.44\n",
      "159                  music     4  Sub-29                 20.14\n",
      "160                  music     5  Sub-29                 23.98\n",
      "161                  music     6  Sub-29                 16.44\n",
      "\n",
      "[162 rows x 4 columns]\n"
     ]
    }
   ],
   "source": [
    "print(df)"
   ]
  },
  {
   "cell_type": "markdown",
   "metadata": {},
   "source": [
    "## Analysis of Cortisol data\n",
    "\n",
    "## Test for normal distribution\n",
    "\n",
    "https://statistikguru.de/spss/mixed-anova/normalverteilung-ueberpruefen-4.html\n",
    "\n",
    "The independent variable should be normally distributed in each group. If this is the case, results can be interpreted quite easily. If not, there are several studies that verify the conduction of ANOVA even though normally distribution is not met(Glass, Peckham, & Sanders, 1972; Harwell, Rubinstein, Hayes, & Olds, 1992; Salkind, 2010).\n",
    "\n",
    "In our study, Cortisol Saliva samples seperated into two groups showed normal distribution after beeing logharithmically transformed (p>0,05).\n",
    "\n",
    "Die unabhängige Variable sollte bei einer mixed ANOVA für jede Gruppe und für jede Stufe des Faktors etwa normalverteilt sein. Ist dies der Fall, so lassen sich die Ergebnisse am fehlerfreisten interpretieren. Allerdings gibt es auch genügend Belege aus aktuellen Studien, dass die ANOVA robust gegenüber einer Verletzung der Normalverteilung ist (Glass, Peckham, & Sanders, 1972; Harwell, Rubinstein, Hayes, & Olds, 1992; Salkind, 2010).\n",
    "\n",
    "Bei den gemessenen Cortisol-Werten zeigt sich zwischen den Gruppen (Musik vs Wasser) nach logharithmischer Transformation eine Normalverteilung (p>0,05)."
   ]
  },
  {
   "cell_type": "code",
   "execution_count": 4,
   "metadata": {},
   "outputs": [
    {
     "data": {
      "text/html": [
       "<div>\n",
       "<style scoped>\n",
       "    .dataframe tbody tr th:only-of-type {\n",
       "        vertical-align: middle;\n",
       "    }\n",
       "\n",
       "    .dataframe tbody tr th {\n",
       "        vertical-align: top;\n",
       "    }\n",
       "\n",
       "    .dataframe thead th {\n",
       "        text-align: right;\n",
       "    }\n",
       "</style>\n",
       "<table border=\"1\" class=\"dataframe\">\n",
       "  <thead>\n",
       "    <tr style=\"text-align: right;\">\n",
       "      <th></th>\n",
       "      <th>W</th>\n",
       "      <th>pval</th>\n",
       "      <th>normal</th>\n",
       "    </tr>\n",
       "  </thead>\n",
       "  <tbody>\n",
       "    <tr>\n",
       "      <th>music</th>\n",
       "      <td>0.854055</td>\n",
       "      <td>1.295552e-07</td>\n",
       "      <td>False</td>\n",
       "    </tr>\n",
       "    <tr>\n",
       "      <th>water</th>\n",
       "      <td>0.837247</td>\n",
       "      <td>8.251303e-08</td>\n",
       "      <td>False</td>\n",
       "    </tr>\n",
       "  </tbody>\n",
       "</table>\n",
       "</div>"
      ],
      "text/plain": [
       "              W          pval  normal\n",
       "music  0.854055  1.295552e-07   False\n",
       "water  0.837247  8.251303e-08   False"
      ]
     },
     "execution_count": 4,
     "metadata": {},
     "output_type": "execute_result"
    }
   ],
   "source": [
    "# check for a normally distributed sample (normality)\n",
    "import pingouin as pg\n",
    "pg.normality(df, group='Between_group_variable', dv='Cortisol_in_nmolproL')"
   ]
  },
  {
   "cell_type": "code",
   "execution_count": 5,
   "metadata": {},
   "outputs": [
    {
     "data": {
      "text/plain": [
       "array([[<matplotlib.axes._subplots.AxesSubplot object at 0x7f94eba17550>]],\n",
       "      dtype=object)"
      ]
     },
     "execution_count": 5,
     "metadata": {},
     "output_type": "execute_result"
    },
    {
     "data": {
      "image/png": "[encoded data removed]",
      "text/plain": [
       "<Figure size 432x288 with 1 Axes>"
      ]
     },
     "metadata": {},
     "output_type": "display_data"
    }
   ],
   "source": [
    "%matplotlib inline\n",
    "df.hist(column='Cortisol_in_nmolproL')\n"
   ]
  },
  {
   "cell_type": "markdown",
   "metadata": {},
   "source": [
    "Transformation of the data with log-transformation\n",
    "Es wurde die logharithmische Verteilung gebildet."
   ]
  },
  {
   "cell_type": "code",
   "execution_count": 6,
   "metadata": {},
   "outputs": [
    {
     "data": {
      "text/plain": [
       "array([[<matplotlib.axes._subplots.AxesSubplot object at 0x7f94eb307cf8>]],\n",
       "      dtype=object)"
      ]
     },
     "execution_count": 6,
     "metadata": {},
     "output_type": "execute_result"
    },
    {
     "data": {
      "image/png": "[encoded data removed]",
      "text/plain": [
       "<Figure size 432x288 with 1 Axes>"
      ]
     },
     "metadata": {},
     "output_type": "display_data"
    }
   ],
   "source": [
    "# create a new column containig the log of our original saliva data\n",
    "# Gauss morphology\n",
    "df['logCortisol_in_nmolproL']=np.log(df['Cortisol_in_nmolproL'])\n",
    "df.hist(column='logCortisol_in_nmolproL')"
   ]
  },
  {
   "cell_type": "code",
   "execution_count": 19,
   "metadata": {},
   "outputs": [
    {
     "data": {
      "text/html": [
       "<div>\n",
       "<style scoped>\n",
       "    .dataframe tbody tr th:only-of-type {\n",
       "        vertical-align: middle;\n",
       "    }\n",
       "\n",
       "    .dataframe tbody tr th {\n",
       "        vertical-align: top;\n",
       "    }\n",
       "\n",
       "    .dataframe thead th {\n",
       "        text-align: right;\n",
       "    }\n",
       "</style>\n",
       "<table border=\"1\" class=\"dataframe\">\n",
       "  <thead>\n",
       "    <tr style=\"text-align: right;\">\n",
       "      <th></th>\n",
       "      <th>W</th>\n",
       "      <th>pval</th>\n",
       "      <th>normal</th>\n",
       "    </tr>\n",
       "  </thead>\n",
       "  <tbody>\n",
       "    <tr>\n",
       "      <th>music</th>\n",
       "      <td>0.977992</td>\n",
       "      <td>0.159985</td>\n",
       "      <td>True</td>\n",
       "    </tr>\n",
       "    <tr>\n",
       "      <th>water</th>\n",
       "      <td>0.983052</td>\n",
       "      <td>0.387584</td>\n",
       "      <td>True</td>\n",
       "    </tr>\n",
       "  </tbody>\n",
       "</table>\n",
       "</div>"
      ],
      "text/plain": [
       "              W      pval  normal\n",
       "music  0.977992  0.159985    True\n",
       "water  0.983052  0.387584    True"
      ]
     },
     "execution_count": 19,
     "metadata": {},
     "output_type": "execute_result"
    }
   ],
   "source": [
    "# check for a normally distributed sample (normality) with log transformated data\n",
    "import pingouin as pg\n",
    "pg.normality(df, group='Between_group_variable', dv='logCortisol_in_nmolproL')"
   ]
  },
  {
   "cell_type": "code",
   "execution_count": 20,
   "metadata": {},
   "outputs": [
    {
     "name": "stdout",
     "output_type": "stream",
     "text": [
      "    Between_group_variable  Time Subject  Cortisol_in_nmolproL  \\\n",
      "24                   water     1  Sub-07                  4.41   \n",
      "25                   water     2  Sub-07                  2.76   \n",
      "26                   water     3  Sub-07                  3.15   \n",
      "27                   water     4  Sub-07                  5.32   \n",
      "28                   water     5  Sub-07                  4.91   \n",
      "..                     ...   ...     ...                   ...   \n",
      "133                  water     2  Sub-25                  9.46   \n",
      "134                  water     3  Sub-25                 12.69   \n",
      "135                  water     4  Sub-25                 19.45   \n",
      "136                  water     5  Sub-25                 19.23   \n",
      "137                  water     6  Sub-25                 13.96   \n",
      "\n",
      "     logCortisol_in_nmolproL  \n",
      "24                  1.483875  \n",
      "25                  1.015231  \n",
      "26                  1.147402  \n",
      "27                  1.671473  \n",
      "28                  1.591274  \n",
      "..                       ...  \n",
      "133                 2.247072  \n",
      "134                 2.540814  \n",
      "135                 2.967847  \n",
      "136                 2.956472  \n",
      "137                 2.636196  \n",
      "\n",
      "[78 rows x 5 columns]\n"
     ]
    }
   ],
   "source": [
    "# create df containig only subjects that listened to water sounds\n",
    "df_norm_w=df.loc[(df['Between_group_variable'] == ('water'))]\n",
    "print(df_norm_w)"
   ]
  },
  {
   "cell_type": "code",
   "execution_count": 21,
   "metadata": {},
   "outputs": [
    {
     "name": "stdout",
     "output_type": "stream",
     "text": [
      "    Between_group_variable  Time Subject  Cortisol_in_nmolproL  \\\n",
      "0                    music     1  Sub-02                  9.17   \n",
      "1                    music     2  Sub-02                  3.84   \n",
      "2                    music     3  Sub-02                  4.44   \n",
      "3                    music     4  Sub-02                  3.34   \n",
      "4                    music     5  Sub-02                  4.64   \n",
      "..                     ...   ...     ...                   ...   \n",
      "157                  music     2  Sub-29                 12.31   \n",
      "158                  music     3  Sub-29                 16.44   \n",
      "159                  music     4  Sub-29                 20.14   \n",
      "160                  music     5  Sub-29                 23.98   \n",
      "161                  music     6  Sub-29                 16.44   \n",
      "\n",
      "     logCortisol_in_nmolproL  \n",
      "0                   2.215937  \n",
      "1                   1.345472  \n",
      "2                   1.490654  \n",
      "3                   1.205971  \n",
      "4                   1.534714  \n",
      "..                       ...  \n",
      "157                 2.510412  \n",
      "158                 2.799717  \n",
      "159                 3.002708  \n",
      "160                 3.177220  \n",
      "161                 2.799717  \n",
      "\n",
      "[84 rows x 5 columns]\n"
     ]
    }
   ],
   "source": [
    "# create df with subjects that listened to music\n",
    "df_norm_m=df.loc[(df['Between_group_variable'] == ('music'))]\n",
    "print(df_norm_m)"
   ]
  },
  {
   "cell_type": "code",
   "execution_count": 22,
   "metadata": {},
   "outputs": [
    {
     "data": {
      "text/html": [
       "<div>\n",
       "<style scoped>\n",
       "    .dataframe tbody tr th:only-of-type {\n",
       "        vertical-align: middle;\n",
       "    }\n",
       "\n",
       "    .dataframe tbody tr th {\n",
       "        vertical-align: top;\n",
       "    }\n",
       "\n",
       "    .dataframe thead th {\n",
       "        text-align: right;\n",
       "    }\n",
       "</style>\n",
       "<table border=\"1\" class=\"dataframe\">\n",
       "  <thead>\n",
       "    <tr style=\"text-align: right;\">\n",
       "      <th></th>\n",
       "      <th>W</th>\n",
       "      <th>pval</th>\n",
       "      <th>normal</th>\n",
       "    </tr>\n",
       "  </thead>\n",
       "  <tbody>\n",
       "    <tr>\n",
       "      <th>1</th>\n",
       "      <td>0.947498</td>\n",
       "      <td>0.522586</td>\n",
       "      <td>True</td>\n",
       "    </tr>\n",
       "    <tr>\n",
       "      <th>2</th>\n",
       "      <td>0.886240</td>\n",
       "      <td>0.071370</td>\n",
       "      <td>True</td>\n",
       "    </tr>\n",
       "    <tr>\n",
       "      <th>3</th>\n",
       "      <td>0.827384</td>\n",
       "      <td>0.011110</td>\n",
       "      <td>False</td>\n",
       "    </tr>\n",
       "    <tr>\n",
       "      <th>4</th>\n",
       "      <td>0.902091</td>\n",
       "      <td>0.120951</td>\n",
       "      <td>True</td>\n",
       "    </tr>\n",
       "    <tr>\n",
       "      <th>5</th>\n",
       "      <td>0.818581</td>\n",
       "      <td>0.008551</td>\n",
       "      <td>False</td>\n",
       "    </tr>\n",
       "    <tr>\n",
       "      <th>6</th>\n",
       "      <td>0.822237</td>\n",
       "      <td>0.009528</td>\n",
       "      <td>False</td>\n",
       "    </tr>\n",
       "  </tbody>\n",
       "</table>\n",
       "</div>"
      ],
      "text/plain": [
       "          W      pval  normal\n",
       "1  0.947498  0.522586    True\n",
       "2  0.886240  0.071370    True\n",
       "3  0.827384  0.011110   False\n",
       "4  0.902091  0.120951    True\n",
       "5  0.818581  0.008551   False\n",
       "6  0.822237  0.009528   False"
      ]
     },
     "execution_count": 22,
     "metadata": {},
     "output_type": "execute_result"
    }
   ],
   "source": [
    "# test for normality in group with music intervention\n",
    "import pingouin as pg\n",
    "pg.normality(df_norm_m, group='Time', dv='Cortisol_in_nmolproL')"
   ]
  },
  {
   "cell_type": "code",
   "execution_count": 23,
   "metadata": {},
   "outputs": [
    {
     "data": {
      "text/html": [
       "<div>\n",
       "<style scoped>\n",
       "    .dataframe tbody tr th:only-of-type {\n",
       "        vertical-align: middle;\n",
       "    }\n",
       "\n",
       "    .dataframe tbody tr th {\n",
       "        vertical-align: top;\n",
       "    }\n",
       "\n",
       "    .dataframe thead th {\n",
       "        text-align: right;\n",
       "    }\n",
       "</style>\n",
       "<table border=\"1\" class=\"dataframe\">\n",
       "  <thead>\n",
       "    <tr style=\"text-align: right;\">\n",
       "      <th></th>\n",
       "      <th>W</th>\n",
       "      <th>pval</th>\n",
       "      <th>normal</th>\n",
       "    </tr>\n",
       "  </thead>\n",
       "  <tbody>\n",
       "    <tr>\n",
       "      <th>1</th>\n",
       "      <td>0.949705</td>\n",
       "      <td>0.593831</td>\n",
       "      <td>True</td>\n",
       "    </tr>\n",
       "    <tr>\n",
       "      <th>2</th>\n",
       "      <td>0.887068</td>\n",
       "      <td>0.088960</td>\n",
       "      <td>True</td>\n",
       "    </tr>\n",
       "    <tr>\n",
       "      <th>3</th>\n",
       "      <td>0.937935</td>\n",
       "      <td>0.430731</td>\n",
       "      <td>True</td>\n",
       "    </tr>\n",
       "    <tr>\n",
       "      <th>4</th>\n",
       "      <td>0.824407</td>\n",
       "      <td>0.013489</td>\n",
       "      <td>False</td>\n",
       "    </tr>\n",
       "    <tr>\n",
       "      <th>5</th>\n",
       "      <td>0.780540</td>\n",
       "      <td>0.004040</td>\n",
       "      <td>False</td>\n",
       "    </tr>\n",
       "    <tr>\n",
       "      <th>6</th>\n",
       "      <td>0.812660</td>\n",
       "      <td>0.009675</td>\n",
       "      <td>False</td>\n",
       "    </tr>\n",
       "  </tbody>\n",
       "</table>\n",
       "</div>"
      ],
      "text/plain": [
       "          W      pval  normal\n",
       "1  0.949705  0.593831    True\n",
       "2  0.887068  0.088960    True\n",
       "3  0.937935  0.430731    True\n",
       "4  0.824407  0.013489   False\n",
       "5  0.780540  0.004040   False\n",
       "6  0.812660  0.009675   False"
      ]
     },
     "execution_count": 23,
     "metadata": {},
     "output_type": "execute_result"
    }
   ],
   "source": [
    "#test for normality in group with water intervention\n",
    "import pingouin as pg\n",
    "pg.normality(df_norm_w, group='Time', dv='Cortisol_in_nmolproL')"
   ]
  },
  {
   "cell_type": "markdown",
   "metadata": {},
   "source": [
    "## Test for homoscedasticity\n",
    "\n",
    "There was homogeneity of the error variances, as assessed by Levene’s test (p > .05) after correcting with log transformation.\n",
    "\n",
    "Homogenität des Varianzen ist für die einzelnen Bedingungen (Gruppen) gegeben, für beide Gruppen nach log Transformation ebenfalls.\n",
    "\n",
    "Homogenität der Fehlervarianzen der einzelnen Gruppen war gemäß dem Levene-Test für alle Variablen erfüllt (p > .05)."
   ]
  },
  {
   "cell_type": "code",
   "execution_count": 11,
   "metadata": {},
   "outputs": [
    {
     "data": {
      "text/html": [
       "<div>\n",
       "<style scoped>\n",
       "    .dataframe tbody tr th:only-of-type {\n",
       "        vertical-align: middle;\n",
       "    }\n",
       "\n",
       "    .dataframe tbody tr th {\n",
       "        vertical-align: top;\n",
       "    }\n",
       "\n",
       "    .dataframe thead th {\n",
       "        text-align: right;\n",
       "    }\n",
       "</style>\n",
       "<table border=\"1\" class=\"dataframe\">\n",
       "  <thead>\n",
       "    <tr style=\"text-align: right;\">\n",
       "      <th></th>\n",
       "      <th>W</th>\n",
       "      <th>pval</th>\n",
       "      <th>equal_var</th>\n",
       "    </tr>\n",
       "  </thead>\n",
       "  <tbody>\n",
       "    <tr>\n",
       "      <th>levene</th>\n",
       "      <td>2.188</td>\n",
       "      <td>0.058271</td>\n",
       "      <td>True</td>\n",
       "    </tr>\n",
       "  </tbody>\n",
       "</table>\n",
       "</div>"
      ],
      "text/plain": [
       "            W      pval  equal_var\n",
       "levene  2.188  0.058271       True"
      ]
     },
     "execution_count": 11,
     "metadata": {},
     "output_type": "execute_result"
    }
   ],
   "source": [
    "pg.homoscedasticity(df, group='Time', dv='logCortisol_in_nmolproL')"
   ]
  },
  {
   "cell_type": "code",
   "execution_count": 12,
   "metadata": {},
   "outputs": [
    {
     "data": {
      "text/html": [
       "<div>\n",
       "<style scoped>\n",
       "    .dataframe tbody tr th:only-of-type {\n",
       "        vertical-align: middle;\n",
       "    }\n",
       "\n",
       "    .dataframe tbody tr th {\n",
       "        vertical-align: top;\n",
       "    }\n",
       "\n",
       "    .dataframe thead th {\n",
       "        text-align: right;\n",
       "    }\n",
       "</style>\n",
       "<table border=\"1\" class=\"dataframe\">\n",
       "  <thead>\n",
       "    <tr style=\"text-align: right;\">\n",
       "      <th></th>\n",
       "      <th>W</th>\n",
       "      <th>pval</th>\n",
       "      <th>equal_var</th>\n",
       "    </tr>\n",
       "  </thead>\n",
       "  <tbody>\n",
       "    <tr>\n",
       "      <th>levene</th>\n",
       "      <td>0.935</td>\n",
       "      <td>0.463386</td>\n",
       "      <td>True</td>\n",
       "    </tr>\n",
       "  </tbody>\n",
       "</table>\n",
       "</div>"
      ],
      "text/plain": [
       "            W      pval  equal_var\n",
       "levene  0.935  0.463386       True"
      ]
     },
     "execution_count": 12,
     "metadata": {},
     "output_type": "execute_result"
    }
   ],
   "source": [
    "# check for equal variances (homoscedasticity)\n",
    "pg.homoscedasticity(df_norm_w, group='Time', dv='Cortisol_in_nmolproL')"
   ]
  },
  {
   "cell_type": "code",
   "execution_count": 13,
   "metadata": {},
   "outputs": [
    {
     "data": {
      "text/html": [
       "<div>\n",
       "<style scoped>\n",
       "    .dataframe tbody tr th:only-of-type {\n",
       "        vertical-align: middle;\n",
       "    }\n",
       "\n",
       "    .dataframe tbody tr th {\n",
       "        vertical-align: top;\n",
       "    }\n",
       "\n",
       "    .dataframe thead th {\n",
       "        text-align: right;\n",
       "    }\n",
       "</style>\n",
       "<table border=\"1\" class=\"dataframe\">\n",
       "  <thead>\n",
       "    <tr style=\"text-align: right;\">\n",
       "      <th></th>\n",
       "      <th>W</th>\n",
       "      <th>pval</th>\n",
       "      <th>equal_var</th>\n",
       "    </tr>\n",
       "  </thead>\n",
       "  <tbody>\n",
       "    <tr>\n",
       "      <th>levene</th>\n",
       "      <td>1.521</td>\n",
       "      <td>0.192911</td>\n",
       "      <td>True</td>\n",
       "    </tr>\n",
       "  </tbody>\n",
       "</table>\n",
       "</div>"
      ],
      "text/plain": [
       "            W      pval  equal_var\n",
       "levene  1.521  0.192911       True"
      ]
     },
     "execution_count": 13,
     "metadata": {},
     "output_type": "execute_result"
    }
   ],
   "source": [
    "# check for equal variances (homoscedasticity)\n",
    "pg.homoscedasticity(df_norm_m, group='Time', dv='Cortisol_in_nmolproL')"
   ]
  },
  {
   "cell_type": "markdown",
   "metadata": {},
   "source": [
    "## Test for sphericity\n",
    "\n",
    "Sphericity was not met. The Greenhouse–Geisser adjustment was used to correct for violations of sphericity.\n",
    "\n",
    "Sphärizität liegt nicht vor. In der späteren ANOVA wird deswegen eine Korrektur der p-Wertes nach Greenhouse Geisser vorgenommen."
   ]
  },
  {
   "cell_type": "code",
   "execution_count": 14,
   "metadata": {},
   "outputs": [
    {
     "data": {
      "text/plain": [
       "(False, 0.035, 80.585, 14, 2.7565906813080007e-11)"
      ]
     },
     "execution_count": 14,
     "metadata": {},
     "output_type": "execute_result"
    }
   ],
   "source": [
    "pg.sphericity(df, subject='Subject', dv='logCortisol_in_nmolproL', within='Time')"
   ]
  },
  {
   "cell_type": "markdown",
   "metadata": {},
   "source": [
    "## Descriptive statistics"
   ]
  },
  {
   "cell_type": "code",
   "execution_count": 16,
   "metadata": {},
   "outputs": [
    {
     "data": {
      "text/plain": [
       "[]"
      ]
     },
     "execution_count": 16,
     "metadata": {},
     "output_type": "execute_result"
    },
    {
     "data": {
      "image/png": "[encoded data removed]",
      "text/plain": [
       "<Figure size 432x288 with 1 Axes>"
      ]
     },
     "metadata": {},
     "output_type": "display_data"
    }
   ],
   "source": [
    "import seaborn as sns\n",
    "import matplotlib.pyplot as plt\n",
    "%matplotlib inline\n",
    "sns.set()\n",
    "sns.pointplot(data=df, x='Time', y='Cortisol_in_nmolproL', hue='Between_group_variable', dodge=True, markers=['o', 's'], capsize=.1, errwidth=1, palette='colorblind')\n",
    "plt.plot()"
   ]
  },
  {
   "cell_type": "code",
   "execution_count": 17,
   "metadata": {},
   "outputs": [
    {
     "data": {
      "text/html": [
       "<div>\n",
       "<style scoped>\n",
       "    .dataframe tbody tr th:only-of-type {\n",
       "        vertical-align: middle;\n",
       "    }\n",
       "\n",
       "    .dataframe tbody tr th {\n",
       "        vertical-align: top;\n",
       "    }\n",
       "\n",
       "    .dataframe thead th {\n",
       "        text-align: right;\n",
       "    }\n",
       "</style>\n",
       "<table border=\"1\" class=\"dataframe\">\n",
       "  <thead>\n",
       "    <tr style=\"text-align: right;\">\n",
       "      <th></th>\n",
       "      <th></th>\n",
       "      <th>mean</th>\n",
       "      <th>std</th>\n",
       "    </tr>\n",
       "    <tr>\n",
       "      <th>Time</th>\n",
       "      <th>Between_group_variable</th>\n",
       "      <th></th>\n",
       "      <th></th>\n",
       "    </tr>\n",
       "  </thead>\n",
       "  <tbody>\n",
       "    <tr>\n",
       "      <th rowspan=\"2\" valign=\"top\">1</th>\n",
       "      <th>music</th>\n",
       "      <td>5.82</td>\n",
       "      <td>2.46</td>\n",
       "    </tr>\n",
       "    <tr>\n",
       "      <th>water</th>\n",
       "      <td>5.77</td>\n",
       "      <td>1.63</td>\n",
       "    </tr>\n",
       "    <tr>\n",
       "      <th rowspan=\"2\" valign=\"top\">2</th>\n",
       "      <th>music</th>\n",
       "      <td>5.38</td>\n",
       "      <td>2.99</td>\n",
       "    </tr>\n",
       "    <tr>\n",
       "      <th>water</th>\n",
       "      <td>5.85</td>\n",
       "      <td>3.03</td>\n",
       "    </tr>\n",
       "    <tr>\n",
       "      <th rowspan=\"2\" valign=\"top\">3</th>\n",
       "      <th>music</th>\n",
       "      <td>8.12</td>\n",
       "      <td>5.83</td>\n",
       "    </tr>\n",
       "    <tr>\n",
       "      <th>water</th>\n",
       "      <td>6.11</td>\n",
       "      <td>3.26</td>\n",
       "    </tr>\n",
       "    <tr>\n",
       "      <th rowspan=\"2\" valign=\"top\">4</th>\n",
       "      <th>music</th>\n",
       "      <td>8.86</td>\n",
       "      <td>6.27</td>\n",
       "    </tr>\n",
       "    <tr>\n",
       "      <th>water</th>\n",
       "      <td>7.30</td>\n",
       "      <td>5.34</td>\n",
       "    </tr>\n",
       "    <tr>\n",
       "      <th rowspan=\"2\" valign=\"top\">5</th>\n",
       "      <th>music</th>\n",
       "      <td>8.86</td>\n",
       "      <td>6.76</td>\n",
       "    </tr>\n",
       "    <tr>\n",
       "      <th>water</th>\n",
       "      <td>6.90</td>\n",
       "      <td>5.42</td>\n",
       "    </tr>\n",
       "    <tr>\n",
       "      <th rowspan=\"2\" valign=\"top\">6</th>\n",
       "      <th>music</th>\n",
       "      <td>6.96</td>\n",
       "      <td>5.57</td>\n",
       "    </tr>\n",
       "    <tr>\n",
       "      <th>water</th>\n",
       "      <td>5.81</td>\n",
       "      <td>4.07</td>\n",
       "    </tr>\n",
       "  </tbody>\n",
       "</table>\n",
       "</div>"
      ],
      "text/plain": [
       "                             mean   std\n",
       "Time Between_group_variable            \n",
       "1    music                   5.82  2.46\n",
       "     water                   5.77  1.63\n",
       "2    music                   5.38  2.99\n",
       "     water                   5.85  3.03\n",
       "3    music                   8.12  5.83\n",
       "     water                   6.11  3.26\n",
       "4    music                   8.86  6.27\n",
       "     water                   7.30  5.34\n",
       "5    music                   8.86  6.76\n",
       "     water                   6.90  5.42\n",
       "6    music                   6.96  5.57\n",
       "     water                   5.81  4.07"
      ]
     },
     "execution_count": 17,
     "metadata": {},
     "output_type": "execute_result"
    }
   ],
   "source": [
    "df.groupby(['Time', 'Between_group_variable'])['Cortisol_in_nmolproL'].agg(['mean', 'std']).round(2)"
   ]
  },
  {
   "cell_type": "markdown",
   "metadata": {},
   "source": [
    "# Conduct a mixed (split-plot) ANOVA with Greenhouse-Geisser corrected p-values\n",
    "\n",
    "The Greenhouse–Geisser adjustment was used to correct for violations of sphericity.\n",
    "There was no statistically significant interaction between time and group, Greenhouse–Geisser punc = 0,508, GG p=0,129, eps0,373.\n",
    "\n",
    "Da eine Verletzung der Voraussetzung der Sphärizität vorlag, wurde eine Greenhouse–Geisser Korrektur der Freiheitsgrade vorgenommen.\n",
    "\n",
    "Es gab keine statistisch signifikante Interaktion zwischen der Zeit und den Untersuchungsgruppen (punc=0,508, Greenhouse–Geisser p= 0,129, eps=0,373) .\n",
    "\n"
   ]
  },
  {
   "cell_type": "code",
   "execution_count": 18,
   "metadata": {},
   "outputs": [
    {
     "name": "stdout",
     "output_type": "stream",
     "text": [
      "\n",
      "=============\n",
      "ANOVA SUMMARY\n",
      "=============\n",
      "\n",
      "Source                     SS    DF1    DF2     MS      F    p-unc  p-GG-corr              np2  eps    sphericity    W-spher    p-spher\n",
      "----------------------  -----  -----  -----  -----  -----  -------  -------------------  -----  -----  ------------  ---------  ----------------------\n",
      "Between_group_variable  0.269      1     25  0.269  0.149    0.703  -                    0.006  -      -             -          -\n",
      "Time                    1.598      5    125  0.320  2.148    0.064  0.12978207624152893  0.079  0.373  False         0.035      2.7565906813080007e-11\n",
      "Interaction             0.642      5    125  0.128  0.862    0.508  -                    0.033  -      -             -          -\n",
      "\n"
     ]
    }
   ],
   "source": [
    "# https://raphaelvallat.com/pingouin.html\n",
    "#  dv:  A dependent variable: Cortisol\n",
    "#  within: A within-group variable, Time\n",
    "#  between:  A between-group variable, Group, with two levels (music, water)\n",
    "#  subject:  A subject variable, Subject\n",
    "\n",
    "# https://github.com/raphaelvallat/pingouin/blob/master/notebooks/01_ANOVA.ipynb\n",
    "\n",
    "import pingouin as pg\n",
    "# Compute the two-way mixed-design ANOVA\n",
    "aov = pg.mixed_anova(dv='logCortisol_in_nmolproL', within='Time', between='Between_group_variable', subject='Subject', data=df, correction=True)\n",
    "# Pretty printing of ANOVA summary\n",
    "pg.print_table(aov)"
   ]
  },
  {
   "cell_type": "raw",
   "metadata": {},
   "source": [
    "speichel analyse: warum so großer unterschied zwischen zeit 2 und 3 : Versuchsleiter, wer war im gremium? hohe cortisolwerte korrelieren mit den Faktoren?\n",
    "\n"
   ]
  }
 ],
 "metadata": {
  "kernelspec": {
   "display_name": "Python 3",
   "language": "python",
   "name": "python3"
  },
  "language_info": {
   "codemirror_mode": {
    "name": "ipython",
    "version": 3
   },
   "file_extension": ".py",
   "mimetype": "text/x-python",
   "name": "python",
   "nbconvert_exporter": "python",
   "pygments_lexer": "ipython3",
   "version": "3.6.3"
  }
 },
 "nbformat": 4,
 "nbformat_minor": 2
}
