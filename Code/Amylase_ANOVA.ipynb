{
 "cells": [
  {
   "cell_type": "markdown",
   "metadata": {},
   "source": [
    "# Load and preprocess data "
   ]
  },
  {
   "cell_type": "code",
   "execution_count": 48,
   "metadata": {
    "collapsed": true
   },
   "outputs": [],
   "source": [
    "# https://statistikguru.de/spss/rm-anova/sphaerizitaet-bestimmen.html"
   ]
  },
  {
   "cell_type": "code",
   "execution_count": 1,
   "metadata": {},
   "outputs": [
    {
     "data": {
      "text/plain": [
       "0      1.0\n",
       "1      2.0\n",
       "2      3.0\n",
       "3      4.0\n",
       "4      5.0\n",
       "      ... \n",
       "169    2.0\n",
       "170    3.0\n",
       "171    4.0\n",
       "172    5.0\n",
       "173    6.0\n",
       "Name: Time, Length: 174, dtype: float64"
      ]
     },
     "execution_count": 1,
     "metadata": {},
     "output_type": "execute_result"
    }
   ],
   "source": [
    "import pandas as pd\n",
    "import numpy as np\n",
    "# musik_listening-Subjects: 3,5,6,14,16,19,23,26,27,28\n",
    "df = pd.read_csv('/home/rebekka/Documents/Doktorarbeit/Physio/a-Amylase_ANOVA.csv', header=1, usecols= [1,2,3,6])\n",
    "df.loc[:,('sAA in U/mL')].astype(float)\n",
    "df.loc[:,('Time')].astype(float)"
   ]
  },
  {
   "cell_type": "code",
   "execution_count": 2,
   "metadata": {
    "collapsed": true
   },
   "outputs": [],
   "source": [
    "#drop NaN\n",
    "df=df.dropna()"
   ]
  },
  {
   "cell_type": "code",
   "execution_count": 5,
   "metadata": {},
   "outputs": [
    {
     "data": {
      "text/plain": [
       "array([[<matplotlib.axes._subplots.AxesSubplot object at 0x7f93112d5940>]],\n",
       "      dtype=object)"
      ]
     },
     "execution_count": 5,
     "metadata": {},
     "output_type": "execute_result"
    },
    {
     "data": {
      "image/png": "[encoded data removed]",
      "text/plain": [
       "<Figure size 432x288 with 1 Axes>"
      ]
     },
     "metadata": {},
     "output_type": "display_data"
    }
   ],
   "source": [
    "%matplotlib inline\n",
    "df['logsAA in U/mL']=np.log(df['sAA in U/mL'])\n",
    "df.hist(column='logsAA in U/mL')"
   ]
  },
  {
   "cell_type": "code",
   "execution_count": 51,
   "metadata": {},
   "outputs": [
    {
     "name": "stdout",
     "output_type": "stream",
     "text": [
      "    Between_group_variable  Time Subject  sAA in U/mL\n",
      "0                    music     1  Sub-01       184.22\n",
      "1                    music     2  Sub-01       165.35\n",
      "2                    music     3  Sub-01       150.45\n",
      "3                    music     4  Sub-01       130.23\n",
      "4                    music     5  Sub-01       198.16\n",
      "..                     ...   ...     ...          ...\n",
      "169                  music     2  Sub-29        76.91\n",
      "170                  music     3  Sub-29        91.76\n",
      "171                  music     4  Sub-29        81.79\n",
      "172                  music     5  Sub-29        91.93\n",
      "173                  music     6  Sub-29       187.52\n",
      "\n",
      "[173 rows x 4 columns]\n"
     ]
    }
   ],
   "source": [
    "print(df)"
   ]
  },
  {
   "cell_type": "markdown",
   "metadata": {},
   "source": [
    "## Analysis of Amylase data\n",
    "\n",
    "## Test for normal distribution\n",
    "\n",
    "https://statistikguru.de/spss/mixed-anova/normalverteilung-ueberpruefen-4.html\n",
    "\n",
    "The independent variable should be normally distributed in each group. If this is the case, results can be interpreted quite easily. If not, there are several studies that verify the conduction of ANOVA even though normally distribution is not met(Glass, Peckham, & Sanders, 1972; Harwell, Rubinstein, Hayes, & Olds, 1992; Salkind, 2010).\n",
    "\n",
    "In our study, Alpha Amylase Saliva samples seperated into two groups showed only normal distribution in one group (water) after beeing logharithmically transformed (p>0,05).\n",
    "\n",
    "\n",
    "Die unabhängige Variable sollte bei einer mixed ANOVA für jede Gruppe und für jede Stufe des Faktors etwa normalverteilt sein. Ist dies der Fall, so lassen sich die Ergebnisse am fehlerfreisten interpretieren. Allerdings gibt es auch genügend Belege aus aktuellen Studien, dass die ANOVA robust gegenüber einer Verletzung der Normalverteilung ist (Glass, Peckham, & Sanders, 1972; Harwell, Rubinstein, Hayes, & Olds, 1992; Salkind, 2010).\n",
    "\n",
    "Bei den gemessenen a-Amylase-Werten zu zwei Bedingungen und jeweils 6 Zeitpunkten, zeigt sich innerhalb der Gruppen (Musik vs Wasser) wenn sie pro Zeiteinheit analysiert wird zu einem Großteil der Zeitpunkte eine Normalverteilung.\n",
    "Im Vergleich beider Gruppen zeigt sich nur bei einer Gruppe (water) eine Normalverteilung (p>0,05)."
   ]
  },
  {
   "cell_type": "code",
   "execution_count": 14,
   "metadata": {
    "scrolled": false
   },
   "outputs": [
    {
     "data": {
      "text/html": [
       "<div>\n",
       "<style scoped>\n",
       "    .dataframe tbody tr th:only-of-type {\n",
       "        vertical-align: middle;\n",
       "    }\n",
       "\n",
       "    .dataframe tbody tr th {\n",
       "        vertical-align: top;\n",
       "    }\n",
       "\n",
       "    .dataframe thead th {\n",
       "        text-align: right;\n",
       "    }\n",
       "</style>\n",
       "<table border=\"1\" class=\"dataframe\">\n",
       "  <thead>\n",
       "    <tr style=\"text-align: right;\">\n",
       "      <th></th>\n",
       "      <th>W</th>\n",
       "      <th>pval</th>\n",
       "      <th>normal</th>\n",
       "    </tr>\n",
       "  </thead>\n",
       "  <tbody>\n",
       "    <tr>\n",
       "      <th>music</th>\n",
       "      <td>0.959216</td>\n",
       "      <td>0.006896</td>\n",
       "      <td>False</td>\n",
       "    </tr>\n",
       "    <tr>\n",
       "      <th>water</th>\n",
       "      <td>0.970701</td>\n",
       "      <td>0.052276</td>\n",
       "      <td>True</td>\n",
       "    </tr>\n",
       "  </tbody>\n",
       "</table>\n",
       "</div>"
      ],
      "text/plain": [
       "              W      pval  normal\n",
       "music  0.959216  0.006896   False\n",
       "water  0.970701  0.052276    True"
      ]
     },
     "execution_count": 14,
     "metadata": {},
     "output_type": "execute_result"
    }
   ],
   "source": [
    "# check for a normally distributed sample (normality)\n",
    "import pingouin as pg\n",
    "pg.normality(df, group='Between_group_variable', dv='logsAA in U/mL')"
   ]
  },
  {
   "cell_type": "code",
   "execution_count": 58,
   "metadata": {
    "scrolled": true
   },
   "outputs": [
    {
     "name": "stdout",
     "output_type": "stream",
     "text": [
      "    Between_group_variable  Time Subject  sAA in U/mL\n",
      "0                    music     1  Sub-01       184.22\n",
      "1                    music     2  Sub-01       165.35\n",
      "2                    music     3  Sub-01       150.45\n",
      "3                    music     4  Sub-01       130.23\n",
      "4                    music     5  Sub-01       198.16\n",
      "..                     ...   ...     ...          ...\n",
      "169                  music     2  Sub-29        76.91\n",
      "170                  music     3  Sub-29        91.76\n",
      "171                  music     4  Sub-29        81.79\n",
      "172                  music     5  Sub-29        91.93\n",
      "173                  music     6  Sub-29       187.52\n",
      "\n",
      "[89 rows x 4 columns]\n"
     ]
    }
   ],
   "source": [
    "# creat df containing only data of music-listening subjects\n",
    "df_norm_m=df.loc[(df['Between_group_variable'] == ('music'))]\n",
    "print(df_norm_m)"
   ]
  },
  {
   "cell_type": "code",
   "execution_count": 59,
   "metadata": {},
   "outputs": [
    {
     "data": {
      "text/html": [
       "<div>\n",
       "<style scoped>\n",
       "    .dataframe tbody tr th:only-of-type {\n",
       "        vertical-align: middle;\n",
       "    }\n",
       "\n",
       "    .dataframe tbody tr th {\n",
       "        vertical-align: top;\n",
       "    }\n",
       "\n",
       "    .dataframe thead th {\n",
       "        text-align: right;\n",
       "    }\n",
       "</style>\n",
       "<table border=\"1\" class=\"dataframe\">\n",
       "  <thead>\n",
       "    <tr style=\"text-align: right;\">\n",
       "      <th></th>\n",
       "      <th>W</th>\n",
       "      <th>pval</th>\n",
       "      <th>normal</th>\n",
       "    </tr>\n",
       "  </thead>\n",
       "  <tbody>\n",
       "    <tr>\n",
       "      <th>1</th>\n",
       "      <td>0.895291</td>\n",
       "      <td>0.080672</td>\n",
       "      <td>True</td>\n",
       "    </tr>\n",
       "    <tr>\n",
       "      <th>2</th>\n",
       "      <td>0.911797</td>\n",
       "      <td>0.144278</td>\n",
       "      <td>True</td>\n",
       "    </tr>\n",
       "    <tr>\n",
       "      <th>3</th>\n",
       "      <td>0.882290</td>\n",
       "      <td>0.051335</td>\n",
       "      <td>True</td>\n",
       "    </tr>\n",
       "    <tr>\n",
       "      <th>4</th>\n",
       "      <td>0.942258</td>\n",
       "      <td>0.448017</td>\n",
       "      <td>True</td>\n",
       "    </tr>\n",
       "    <tr>\n",
       "      <th>5</th>\n",
       "      <td>0.845471</td>\n",
       "      <td>0.014992</td>\n",
       "      <td>False</td>\n",
       "    </tr>\n",
       "    <tr>\n",
       "      <th>6</th>\n",
       "      <td>0.960826</td>\n",
       "      <td>0.706754</td>\n",
       "      <td>True</td>\n",
       "    </tr>\n",
       "  </tbody>\n",
       "</table>\n",
       "</div>"
      ],
      "text/plain": [
       "          W      pval  normal\n",
       "1  0.895291  0.080672    True\n",
       "2  0.911797  0.144278    True\n",
       "3  0.882290  0.051335    True\n",
       "4  0.942258  0.448017    True\n",
       "5  0.845471  0.014992   False\n",
       "6  0.960826  0.706754    True"
      ]
     },
     "execution_count": 59,
     "metadata": {},
     "output_type": "execute_result"
    }
   ],
   "source": [
    "# check for a normally distributed sample for music listening subjects(normality)\n",
    "import pingouin as pg\n",
    "pg.normality(df_norm_m, group='Time', dv='sAA in U/mL')"
   ]
  },
  {
   "cell_type": "code",
   "execution_count": 15,
   "metadata": {},
   "outputs": [
    {
     "name": "stdout",
     "output_type": "stream",
     "text": [
      "    Between_group_variable  Time Subject  sAA in U/mL  logsAA in U/mL\n",
      "18                   water     1  Sub-04        63.95        4.158102\n",
      "19                   water     2  Sub-04        95.12        4.555139\n",
      "20                   water     3  Sub-04        64.15        4.161224\n",
      "21                   water     4  Sub-04        35.86        3.579622\n",
      "22                   water     5  Sub-04        47.52        3.861151\n",
      "..                     ...   ...     ...          ...             ...\n",
      "145                  water     2  Sub-25       127.51        4.848195\n",
      "146                  water     3  Sub-25       284.29        5.649995\n",
      "147                  water     4  Sub-25       174.47        5.161753\n",
      "148                  water     5  Sub-25       251.88        5.528953\n",
      "149                  water     6  Sub-25       337.52        5.821625\n",
      "\n",
      "[84 rows x 5 columns]\n"
     ]
    }
   ],
   "source": [
    "#create df containing only data of water-listening subjects\n",
    "df_norm_w=df.loc[(df['Between_group_variable'] == ('water'))]\n",
    "print(df_norm_w)"
   ]
  },
  {
   "cell_type": "code",
   "execution_count": 16,
   "metadata": {},
   "outputs": [
    {
     "data": {
      "text/html": [
       "<div>\n",
       "<style scoped>\n",
       "    .dataframe tbody tr th:only-of-type {\n",
       "        vertical-align: middle;\n",
       "    }\n",
       "\n",
       "    .dataframe tbody tr th {\n",
       "        vertical-align: top;\n",
       "    }\n",
       "\n",
       "    .dataframe thead th {\n",
       "        text-align: right;\n",
       "    }\n",
       "</style>\n",
       "<table border=\"1\" class=\"dataframe\">\n",
       "  <thead>\n",
       "    <tr style=\"text-align: right;\">\n",
       "      <th></th>\n",
       "      <th>W</th>\n",
       "      <th>pval</th>\n",
       "      <th>normal</th>\n",
       "    </tr>\n",
       "  </thead>\n",
       "  <tbody>\n",
       "    <tr>\n",
       "      <th>1</th>\n",
       "      <td>0.895888</td>\n",
       "      <td>0.098318</td>\n",
       "      <td>True</td>\n",
       "    </tr>\n",
       "    <tr>\n",
       "      <th>2</th>\n",
       "      <td>0.800380</td>\n",
       "      <td>0.005045</td>\n",
       "      <td>False</td>\n",
       "    </tr>\n",
       "    <tr>\n",
       "      <th>3</th>\n",
       "      <td>0.878419</td>\n",
       "      <td>0.055181</td>\n",
       "      <td>True</td>\n",
       "    </tr>\n",
       "    <tr>\n",
       "      <th>4</th>\n",
       "      <td>0.911941</td>\n",
       "      <td>0.168148</td>\n",
       "      <td>True</td>\n",
       "    </tr>\n",
       "    <tr>\n",
       "      <th>5</th>\n",
       "      <td>0.881941</td>\n",
       "      <td>0.061940</td>\n",
       "      <td>True</td>\n",
       "    </tr>\n",
       "    <tr>\n",
       "      <th>6</th>\n",
       "      <td>0.982489</td>\n",
       "      <td>0.986732</td>\n",
       "      <td>True</td>\n",
       "    </tr>\n",
       "  </tbody>\n",
       "</table>\n",
       "</div>"
      ],
      "text/plain": [
       "          W      pval  normal\n",
       "1  0.895888  0.098318    True\n",
       "2  0.800380  0.005045   False\n",
       "3  0.878419  0.055181    True\n",
       "4  0.911941  0.168148    True\n",
       "5  0.881941  0.061940    True\n",
       "6  0.982489  0.986732    True"
      ]
     },
     "execution_count": 16,
     "metadata": {},
     "output_type": "execute_result"
    }
   ],
   "source": [
    "# check for a normally distributed sample for water listening(normality)\n",
    "import pingouin as pg\n",
    "pg.normality(df_norm_w, group='Time', dv='sAA in U/mL')"
   ]
  },
  {
   "cell_type": "markdown",
   "metadata": {},
   "source": [
    "## Test for homoscedasticity\n",
    "\n",
    "There was homogeneity of the error variances, as assessed by Levene’s test (p > .05).\n",
    "\n",
    "Homogenität des Varianzen ist gegeben (sowohl innerhalb der Gruppen, als auch über die Gruppen hinweg\n",
    "\n",
    "Homogenität der Fehlervarianzen zwischen den Gruppen war gemäß dem Levene-Test für alle Variablen erfüllt (p > .05)."
   ]
  },
  {
   "cell_type": "code",
   "execution_count": 62,
   "metadata": {},
   "outputs": [
    {
     "data": {
      "text/html": [
       "<div>\n",
       "<style scoped>\n",
       "    .dataframe tbody tr th:only-of-type {\n",
       "        vertical-align: middle;\n",
       "    }\n",
       "\n",
       "    .dataframe tbody tr th {\n",
       "        vertical-align: top;\n",
       "    }\n",
       "\n",
       "    .dataframe thead th {\n",
       "        text-align: right;\n",
       "    }\n",
       "</style>\n",
       "<table border=\"1\" class=\"dataframe\">\n",
       "  <thead>\n",
       "    <tr style=\"text-align: right;\">\n",
       "      <th></th>\n",
       "      <th>W</th>\n",
       "      <th>pval</th>\n",
       "      <th>equal_var</th>\n",
       "    </tr>\n",
       "  </thead>\n",
       "  <tbody>\n",
       "    <tr>\n",
       "      <th>levene</th>\n",
       "      <td>0.917</td>\n",
       "      <td>0.474261</td>\n",
       "      <td>True</td>\n",
       "    </tr>\n",
       "  </tbody>\n",
       "</table>\n",
       "</div>"
      ],
      "text/plain": [
       "            W      pval  equal_var\n",
       "levene  0.917  0.474261       True"
      ]
     },
     "execution_count": 62,
     "metadata": {},
     "output_type": "execute_result"
    }
   ],
   "source": [
    "# check for equal variances (homoscedasticity)\n",
    "pg.homoscedasticity(df_norm_w, group='Time', dv='sAA in U/mL')"
   ]
  },
  {
   "cell_type": "code",
   "execution_count": 63,
   "metadata": {},
   "outputs": [
    {
     "data": {
      "text/html": [
       "<div>\n",
       "<style scoped>\n",
       "    .dataframe tbody tr th:only-of-type {\n",
       "        vertical-align: middle;\n",
       "    }\n",
       "\n",
       "    .dataframe tbody tr th {\n",
       "        vertical-align: top;\n",
       "    }\n",
       "\n",
       "    .dataframe thead th {\n",
       "        text-align: right;\n",
       "    }\n",
       "</style>\n",
       "<table border=\"1\" class=\"dataframe\">\n",
       "  <thead>\n",
       "    <tr style=\"text-align: right;\">\n",
       "      <th></th>\n",
       "      <th>W</th>\n",
       "      <th>pval</th>\n",
       "      <th>equal_var</th>\n",
       "    </tr>\n",
       "  </thead>\n",
       "  <tbody>\n",
       "    <tr>\n",
       "      <th>levene</th>\n",
       "      <td>1.26</td>\n",
       "      <td>0.288939</td>\n",
       "      <td>True</td>\n",
       "    </tr>\n",
       "  </tbody>\n",
       "</table>\n",
       "</div>"
      ],
      "text/plain": [
       "           W      pval  equal_var\n",
       "levene  1.26  0.288939       True"
      ]
     },
     "execution_count": 63,
     "metadata": {},
     "output_type": "execute_result"
    }
   ],
   "source": [
    "# check for equal variances (homoscedasticity)\n",
    "pg.homoscedasticity(df_norm_m, group='Time', dv='sAA in U/mL')"
   ]
  },
  {
   "cell_type": "code",
   "execution_count": 64,
   "metadata": {},
   "outputs": [
    {
     "data": {
      "text/html": [
       "<div>\n",
       "<style scoped>\n",
       "    .dataframe tbody tr th:only-of-type {\n",
       "        vertical-align: middle;\n",
       "    }\n",
       "\n",
       "    .dataframe tbody tr th {\n",
       "        vertical-align: top;\n",
       "    }\n",
       "\n",
       "    .dataframe thead th {\n",
       "        text-align: right;\n",
       "    }\n",
       "</style>\n",
       "<table border=\"1\" class=\"dataframe\">\n",
       "  <thead>\n",
       "    <tr style=\"text-align: right;\">\n",
       "      <th></th>\n",
       "      <th>W</th>\n",
       "      <th>pval</th>\n",
       "      <th>equal_var</th>\n",
       "    </tr>\n",
       "  </thead>\n",
       "  <tbody>\n",
       "    <tr>\n",
       "      <th>levene</th>\n",
       "      <td>1.921</td>\n",
       "      <td>0.093362</td>\n",
       "      <td>True</td>\n",
       "    </tr>\n",
       "  </tbody>\n",
       "</table>\n",
       "</div>"
      ],
      "text/plain": [
       "            W      pval  equal_var\n",
       "levene  1.921  0.093362       True"
      ]
     },
     "execution_count": 64,
     "metadata": {},
     "output_type": "execute_result"
    }
   ],
   "source": [
    "pg.homoscedasticity(df, group='Time', dv='sAA in U/mL')"
   ]
  },
  {
   "cell_type": "markdown",
   "metadata": {},
   "source": [
    "Sphärizität liegt nicht vor. In der späteren ANOVA wird deswegen eine Korrektur der p-Wertes nach Greenhouse Geisser vorgenommen."
   ]
  },
  {
   "cell_type": "code",
   "execution_count": 8,
   "metadata": {},
   "outputs": [
    {
     "data": {
      "text/plain": [
       "(False, 0.221, 37.849, 14, 0.0005753258228049843)"
      ]
     },
     "execution_count": 8,
     "metadata": {},
     "output_type": "execute_result"
    }
   ],
   "source": [
    "pg.sphericity(df, subject='Subject', dv='sAA in U/mL', within='Time')"
   ]
  },
  {
   "cell_type": "markdown",
   "metadata": {},
   "source": [
    "# Descriptive statistics\n"
   ]
  },
  {
   "cell_type": "code",
   "execution_count": 66,
   "metadata": {},
   "outputs": [
    {
     "data": {
      "text/plain": [
       "[]"
      ]
     },
     "execution_count": 66,
     "metadata": {},
     "output_type": "execute_result"
    },
    {
     "data": {
      "image/png": "[encoded data removed]",
      "text/plain": [
       "<Figure size 432x288 with 1 Axes>"
      ]
     },
     "metadata": {},
     "output_type": "display_data"
    }
   ],
   "source": [
    "import seaborn as sns\n",
    "import matplotlib.pyplot as plt\n",
    "%matplotlib inline\n",
    "sns.set()\n",
    "sns.pointplot(data=df, x='Time', y='sAA in U/mL', hue='Between_group_variable', dodge=True, markers=['o', 's'], capsize=.1, errwidth=1, palette='colorblind')\n",
    "plt.plot()"
   ]
  },
  {
   "cell_type": "markdown",
   "metadata": {},
   "source": [
    "über die Zeitpunkte 3-5 (Zeit von Beginn der akustischen Intervention(3), über Ende der akustischen Intervention(4), bis zum Ende des zweiten Stresstests(5)"
   ]
  },
  {
   "cell_type": "code",
   "execution_count": 68,
   "metadata": {
    "scrolled": true
   },
   "outputs": [
    {
     "data": {
      "text/html": [
       "<div>\n",
       "<style scoped>\n",
       "    .dataframe tbody tr th:only-of-type {\n",
       "        vertical-align: middle;\n",
       "    }\n",
       "\n",
       "    .dataframe tbody tr th {\n",
       "        vertical-align: top;\n",
       "    }\n",
       "\n",
       "    .dataframe thead th {\n",
       "        text-align: right;\n",
       "    }\n",
       "</style>\n",
       "<table border=\"1\" class=\"dataframe\">\n",
       "  <thead>\n",
       "    <tr style=\"text-align: right;\">\n",
       "      <th></th>\n",
       "      <th></th>\n",
       "      <th>mean</th>\n",
       "      <th>std</th>\n",
       "    </tr>\n",
       "    <tr>\n",
       "      <th>Time</th>\n",
       "      <th>Between_group_variable</th>\n",
       "      <th></th>\n",
       "      <th></th>\n",
       "    </tr>\n",
       "  </thead>\n",
       "  <tbody>\n",
       "    <tr>\n",
       "      <th rowspan=\"2\" valign=\"top\">1</th>\n",
       "      <th>music</th>\n",
       "      <td>149.99</td>\n",
       "      <td>104.96</td>\n",
       "    </tr>\n",
       "    <tr>\n",
       "      <th>water</th>\n",
       "      <td>157.14</td>\n",
       "      <td>95.79</td>\n",
       "    </tr>\n",
       "    <tr>\n",
       "      <th rowspan=\"2\" valign=\"top\">2</th>\n",
       "      <th>music</th>\n",
       "      <td>99.97</td>\n",
       "      <td>78.90</td>\n",
       "    </tr>\n",
       "    <tr>\n",
       "      <th>water</th>\n",
       "      <td>126.20</td>\n",
       "      <td>95.94</td>\n",
       "    </tr>\n",
       "    <tr>\n",
       "      <th rowspan=\"2\" valign=\"top\">3</th>\n",
       "      <th>music</th>\n",
       "      <td>105.25</td>\n",
       "      <td>92.20</td>\n",
       "    </tr>\n",
       "    <tr>\n",
       "      <th>water</th>\n",
       "      <td>155.09</td>\n",
       "      <td>110.91</td>\n",
       "    </tr>\n",
       "    <tr>\n",
       "      <th rowspan=\"2\" valign=\"top\">4</th>\n",
       "      <th>music</th>\n",
       "      <td>71.36</td>\n",
       "      <td>43.40</td>\n",
       "    </tr>\n",
       "    <tr>\n",
       "      <th>water</th>\n",
       "      <td>88.98</td>\n",
       "      <td>45.79</td>\n",
       "    </tr>\n",
       "    <tr>\n",
       "      <th rowspan=\"2\" valign=\"top\">5</th>\n",
       "      <th>music</th>\n",
       "      <td>83.33</td>\n",
       "      <td>71.30</td>\n",
       "    </tr>\n",
       "    <tr>\n",
       "      <th>water</th>\n",
       "      <td>114.50</td>\n",
       "      <td>72.03</td>\n",
       "    </tr>\n",
       "    <tr>\n",
       "      <th rowspan=\"2\" valign=\"top\">6</th>\n",
       "      <th>music</th>\n",
       "      <td>157.50</td>\n",
       "      <td>89.63</td>\n",
       "    </tr>\n",
       "    <tr>\n",
       "      <th>water</th>\n",
       "      <td>178.14</td>\n",
       "      <td>85.98</td>\n",
       "    </tr>\n",
       "  </tbody>\n",
       "</table>\n",
       "</div>"
      ],
      "text/plain": [
       "                               mean     std\n",
       "Time Between_group_variable                \n",
       "1    music                   149.99  104.96\n",
       "     water                   157.14   95.79\n",
       "2    music                    99.97   78.90\n",
       "     water                   126.20   95.94\n",
       "3    music                   105.25   92.20\n",
       "     water                   155.09  110.91\n",
       "4    music                    71.36   43.40\n",
       "     water                    88.98   45.79\n",
       "5    music                    83.33   71.30\n",
       "     water                   114.50   72.03\n",
       "6    music                   157.50   89.63\n",
       "     water                   178.14   85.98"
      ]
     },
     "execution_count": 68,
     "metadata": {},
     "output_type": "execute_result"
    }
   ],
   "source": [
    "df.groupby(['Time', 'Between_group_variable'])['sAA in U/mL'].agg(['mean', 'std']).round(2)"
   ]
  },
  {
   "cell_type": "markdown",
   "metadata": {},
   "source": [
    "# Conduct a mixed (split-plot) ANOVA with Greenhouse-Geisser corrected p-values\n",
    "no significant Interaction detected --> no post-hoc tests\n",
    "The Greenhouse–Geisser adjustment was used to correct for violations of sphericity.\n",
    "There was no statistically significant interaction between time and group, Greenhouse–Geisser punc = 0,674, GG p=1,819, eps=0,732.\n",
    "\n",
    "Da eine Verletzung der Voraussetzung der Sphärizität vorlag, wurde eine Greenhouse–Geisser Korrektur der Freiheitsgrade vorgenommen.\n",
    "\n",
    "Es gab keine statistisch signifikante Interaktion zwischen der Zeit und den Untersuchungsgruppen (punc=0,674, Greenhouse–Geisser p= 1,819, eps=0,73) ."
   ]
  },
  {
   "cell_type": "code",
   "execution_count": 10,
   "metadata": {
    "scrolled": true
   },
   "outputs": [
    {
     "name": "stdout",
     "output_type": "stream",
     "text": [
      "\n",
      "=============\n",
      "ANOVA SUMMARY\n",
      "=============\n",
      "\n",
      "Source                          SS    DF1    DF2         MS       F    p-unc  p-GG-corr                 np2  eps    sphericity    W-spher    p-spher\n",
      "----------------------  ----------  -----  -----  ---------  ------  -------  ----------------------  -----  -----  ------------  ---------  ---------------------\n",
      "Between_group_variable   26996.227      1     27  26996.227   0.923    0.345  -                       0.033  -      -             -          -\n",
      "Time                    157308.256      5    135  31461.651  11.539    0.000  1.8191940108565886e-07  0.299  0.732  False         0.176      7.494074639949745e-05\n",
      "Interaction               8640.444      5    135   1728.089   0.634    0.674  -                       0.023  -      -             -          -\n",
      "\n"
     ]
    }
   ],
   "source": [
    "# https://github.com/raphaelvallat/pingouin/blob/master/notebooks/01_ANOVA.ipynb\n",
    "# https://raphaelvallat.com/pingouin.html\n",
    "#  dv:  A dependent variable: Cortisol\n",
    "#  within: A within-group variable, Time\n",
    "#  between:  A between-group variable, Group, with two levels (music, water)\n",
    "#  subject:  A subject variable, Subject\n",
    "\n",
    "\n",
    "import pingouin as pg\n",
    "# Compute the two-way mixed-design ANOVA\n",
    "aov = pg.mixed_anova(dv='sAA in U/mL', within='Time', between='Between_group_variable', subject='Subject', data=df, correction=True)\n",
    "# Pretty printing of ANOVA summary\n",
    "pg.print_table(aov)"
   ]
  }
 ],
 "metadata": {
  "kernelspec": {
   "display_name": "Python 3",
   "language": "python",
   "name": "python3"
  },
  "language_info": {
   "codemirror_mode": {
    "name": "ipython",
    "version": 3
   },
   "file_extension": ".py",
   "mimetype": "text/x-python",
   "name": "python",
   "nbconvert_exporter": "python",
   "pygments_lexer": "ipython3",
   "version": "3.6.3"
  }
 },
 "nbformat": 4,
 "nbformat_minor": 2
}
